{
 "cells": [
  {
   "cell_type": "markdown",
   "metadata": {},
   "source": [
    "# Домашняя работа №1"
   ]
  },
  {
   "cell_type": "markdown",
   "metadata": {},
   "source": [
    "**Срок сдачи:** 9 октября 2017, 23:59 <br/>\n",
    "Штраф за опоздание: -1 балл за каждый день\n",
    "\n",
    "Файл с дз надо загрузить по [ссылке](https://www.dropbox.com/request/fN13dbdM4Cz1no5bwyF9)<br/>\n",
    "Постарайтесь назвать файл по следующему формату:** [ИАД-*{Номер}*] *{Фамилия}* *{Имя}* ДЗ*{Номер}* **<br/>\n",
    "\n",
    "Сопровождайте ваш код изображеними, комментариями и выводами. <br/>\n",
    "Иммейте ввиду, что на некоторые задачи нет единственного верного и полного ответа. Чем больше информации вы сможете извлечь, аргументированных выводов сформулировать, тем лучше.\n",
    "\n",
    "Используйте данный Ipython Notebook при оформлении домашнего задания."
   ]
  },
  {
   "cell_type": "markdown",
   "metadata": {},
   "source": [
    "# Table of Contents\n",
    " <p><div class=\"lev1 toc-item\"><a href=\"#Регрессия-с-SVM-(3-балла)\" data-toc-modified-id=\"Регрессия-с-SVM-(3-балла)-1\"><span class=\"toc-item-num\">1&nbsp;&nbsp;</span>Регрессия с SVM (3 балла)</a></div><div class=\"lev2 toc-item\"><a href=\"#Визуализация-данных-(1-балл)\" data-toc-modified-id=\"Визуализация-данных-(1-балл)-11\"><span class=\"toc-item-num\">1.1&nbsp;&nbsp;</span>Визуализация данных (1 балл)</a></div><div class=\"lev2 toc-item\"><a href=\"#Обучение-моделей-(2-балла)\" data-toc-modified-id=\"Обучение-моделей-(2-балла)-12\"><span class=\"toc-item-num\">1.2&nbsp;&nbsp;</span>Обучение моделей (2 балла)</a></div><div class=\"lev1 toc-item\"><a href=\"#Определение-языка-слова-(7-баллов)\" data-toc-modified-id=\"Определение-языка-слова-(7-баллов)-2\"><span class=\"toc-item-num\">2&nbsp;&nbsp;</span>Определение языка слова (7 баллов)</a></div><div class=\"lev2 toc-item\"><a href=\"#Загрузка-(1-балл)\" data-toc-modified-id=\"Загрузка-(1-балл)-21\"><span class=\"toc-item-num\">2.1&nbsp;&nbsp;</span>Загрузка (1 балл)</a></div><div class=\"lev2 toc-item\"><a href=\"#Подход-с-n-граммами-(2-балла)\" data-toc-modified-id=\"Подход-с-n-граммами-(2-балла)-22\"><span class=\"toc-item-num\">2.2&nbsp;&nbsp;</span>Подход с n-граммами (2 балла)</a></div><div class=\"lev2 toc-item\"><a href=\"#Подход-с-пользовательским-ядром\" data-toc-modified-id=\"Подход-с-пользовательским-ядром-23\"><span class=\"toc-item-num\">2.3&nbsp;&nbsp;</span>Подход с пользовательским ядром</a></div><div class=\"lev3 toc-item\"><a href=\"#Подготовка-данных-(1-балла)\" data-toc-modified-id=\"Подготовка-данных-(1-балла)-231\"><span class=\"toc-item-num\">2.3.1&nbsp;&nbsp;</span>Подготовка данных (1 балла)</a></div><div class=\"lev3 toc-item\"><a href=\"#Расчет-ядра-(2-балла)\" data-toc-modified-id=\"Расчет-ядра-(2-балла)-232\"><span class=\"toc-item-num\">2.3.2&nbsp;&nbsp;</span>Расчет ядра (2 балла)</a></div><div class=\"lev3 toc-item\"><a href=\"#Оценка-качества-(1-балл)\" data-toc-modified-id=\"Оценка-качества-(1-балл)-233\"><span class=\"toc-item-num\">2.3.3&nbsp;&nbsp;</span>Оценка качества (1 балл)</a></div>"
   ]
  },
  {
   "cell_type": "code",
   "execution_count": 353,
   "metadata": {
    "collapsed": true
   },
   "outputs": [],
   "source": [
    "import pandas as pd\n",
    "import numpy as np\n",
    "import matplotlib.pyplot as plt\n",
    "%matplotlib inline"
   ]
  },
  {
   "cell_type": "markdown",
   "metadata": {},
   "source": [
    "# Регрессия с SVM (3 балла)"
   ]
  },
  {
   "cell_type": "markdown",
   "metadata": {},
   "source": [
    "SVM можно использовать и для задачи регрессии.\n",
    "\n",
    "Загрузите набор данных из *titanium.csv*<br/>\n",
    "Будем решать задачу восстановления столбца 'y' по столбцу 'x'."
   ]
  },
  {
   "cell_type": "code",
   "execution_count": 354,
   "metadata": {},
   "outputs": [
    {
     "data": {
      "text/html": [
       "<div>\n",
       "<style>\n",
       "    .dataframe thead tr:only-child th {\n",
       "        text-align: right;\n",
       "    }\n",
       "\n",
       "    .dataframe thead th {\n",
       "        text-align: left;\n",
       "    }\n",
       "\n",
       "    .dataframe tbody tr th {\n",
       "        vertical-align: top;\n",
       "    }\n",
       "</style>\n",
       "<table border=\"1\" class=\"dataframe\">\n",
       "  <thead>\n",
       "    <tr style=\"text-align: right;\">\n",
       "      <th></th>\n",
       "      <th>x</th>\n",
       "      <th>y</th>\n",
       "    </tr>\n",
       "  </thead>\n",
       "  <tbody>\n",
       "    <tr>\n",
       "      <th>0</th>\n",
       "      <td>585.0</td>\n",
       "      <td>0.644</td>\n",
       "    </tr>\n",
       "    <tr>\n",
       "      <th>1</th>\n",
       "      <td>595.0</td>\n",
       "      <td>0.622</td>\n",
       "    </tr>\n",
       "    <tr>\n",
       "      <th>2</th>\n",
       "      <td>605.0</td>\n",
       "      <td>0.638</td>\n",
       "    </tr>\n",
       "    <tr>\n",
       "      <th>3</th>\n",
       "      <td>615.0</td>\n",
       "      <td>0.649</td>\n",
       "    </tr>\n",
       "    <tr>\n",
       "      <th>4</th>\n",
       "      <td>625.0</td>\n",
       "      <td>0.652</td>\n",
       "    </tr>\n",
       "  </tbody>\n",
       "</table>\n",
       "</div>"
      ],
      "text/plain": [
       "       x      y\n",
       "0  585.0  0.644\n",
       "1  595.0  0.622\n",
       "2  605.0  0.638\n",
       "3  615.0  0.649\n",
       "4  625.0  0.652"
      ]
     },
     "execution_count": 354,
     "metadata": {},
     "output_type": "execute_result"
    }
   ],
   "source": [
    "titanium = pd.read_csv('titanium.csv')\n",
    "titanium.head()"
   ]
  },
  {
   "cell_type": "markdown",
   "metadata": {},
   "source": [
    "## Визуализация данных (1 балл)"
   ]
  },
  {
   "cell_type": "markdown",
   "metadata": {},
   "source": [
    "Выполните стандартную предобработку данных (вычет среднего и деление на стандартное отклонение) и выведите их на графике."
   ]
  },
  {
   "cell_type": "code",
   "execution_count": 355,
   "metadata": {
    "collapsed": true
   },
   "outputs": [],
   "source": [
    "titanium['x'] = (titanium['x'] - titanium['x'].mean()) / titanium['x'].std()"
   ]
  },
  {
   "cell_type": "code",
   "execution_count": 356,
   "metadata": {},
   "outputs": [
    {
     "data": {
      "text/html": [
       "<div>\n",
       "<style>\n",
       "    .dataframe thead tr:only-child th {\n",
       "        text-align: right;\n",
       "    }\n",
       "\n",
       "    .dataframe thead th {\n",
       "        text-align: left;\n",
       "    }\n",
       "\n",
       "    .dataframe tbody tr th {\n",
       "        vertical-align: top;\n",
       "    }\n",
       "</style>\n",
       "<table border=\"1\" class=\"dataframe\">\n",
       "  <thead>\n",
       "    <tr style=\"text-align: right;\">\n",
       "      <th></th>\n",
       "      <th>x</th>\n",
       "      <th>y</th>\n",
       "    </tr>\n",
       "  </thead>\n",
       "  <tbody>\n",
       "    <tr>\n",
       "      <th>0</th>\n",
       "      <td>-1.679650</td>\n",
       "      <td>0.644</td>\n",
       "    </tr>\n",
       "    <tr>\n",
       "      <th>1</th>\n",
       "      <td>-1.609665</td>\n",
       "      <td>0.622</td>\n",
       "    </tr>\n",
       "    <tr>\n",
       "      <th>2</th>\n",
       "      <td>-1.539679</td>\n",
       "      <td>0.638</td>\n",
       "    </tr>\n",
       "    <tr>\n",
       "      <th>3</th>\n",
       "      <td>-1.469694</td>\n",
       "      <td>0.649</td>\n",
       "    </tr>\n",
       "    <tr>\n",
       "      <th>4</th>\n",
       "      <td>-1.399708</td>\n",
       "      <td>0.652</td>\n",
       "    </tr>\n",
       "  </tbody>\n",
       "</table>\n",
       "</div>"
      ],
      "text/plain": [
       "          x      y\n",
       "0 -1.679650  0.644\n",
       "1 -1.609665  0.622\n",
       "2 -1.539679  0.638\n",
       "3 -1.469694  0.649\n",
       "4 -1.399708  0.652"
      ]
     },
     "execution_count": 356,
     "metadata": {},
     "output_type": "execute_result"
    }
   ],
   "source": [
    "titanium.head()"
   ]
  },
  {
   "cell_type": "code",
   "execution_count": 357,
   "metadata": {},
   "outputs": [
    {
     "data": {
      "text/plain": [
       "[<matplotlib.lines.Line2D at 0x127121ba8>]"
      ]
     },
     "execution_count": 357,
     "metadata": {},
     "output_type": "execute_result"
    },
    {
     "data": {
      "image/png": "[encoded data removed]",
      "text/plain": [
       "<matplotlib.figure.Figure at 0x126b57c88>"
      ]
     },
     "metadata": {},
     "output_type": "display_data"
    }
   ],
   "source": [
    "plt.figure(figsize=(15, 5))\n",
    "plt.xlabel('x')\n",
    "plt.ylabel('y')\n",
    "plt.grid()\n",
    "plt.plot(titanium['x'], titanium['y'], lw=3)"
   ]
  },
  {
   "cell_type": "markdown",
   "metadata": {},
   "source": [
    "## Обучение моделей (2 балла)"
   ]
  },
  {
   "cell_type": "markdown",
   "metadata": {},
   "source": [
    "Рассмотрим 3 ядра: \n",
    "* Линейное\n",
    "* Полиномиальное (`degree = 3`, `gamma = 6`, `coef0 = 1`)\n",
    "* RBF (`gamma = 6`, `coef0 = 1`)\n",
    "\n",
    "Во всех случаях установите точность алгоритма оптимизации `epsilon=0.01`\n",
    "\n",
    "Для каждого из ядер:\n",
    "1. Постройте графики зависимости ошибки от параметра $C$ (ось графика со значениями параметра $C$ должна быть в логарифмической шкале). Ошибка измеряется как средняя абсолютная ошибка. \n",
    "2. Для наилучшего параметра $C$ постройте график с данными и предсказанием с помощью SVM.\n",
    "\n",
    "В каких случаях возникают эффекты недообучения, переобучения?"
   ]
  },
  {
   "cell_type": "code",
   "execution_count": 358,
   "metadata": {
    "collapsed": true
   },
   "outputs": [],
   "source": [
    "X = titanium['x'].values.reshape((len(titanium['x']), 1))\n",
    "y = titanium['y'].values.reshape((len(titanium['y']),))"
   ]
  },
  {
   "cell_type": "code",
   "execution_count": 359,
   "metadata": {
    "collapsed": true
   },
   "outputs": [],
   "source": [
    "from sklearn.svm import SVR\n",
    "from sklearn.metrics import mean_absolute_error as MAE"
   ]
  },
  {
   "cell_type": "markdown",
   "metadata": {},
   "source": [
    "### Линейное ядро"
   ]
  },
  {
   "cell_type": "code",
   "execution_count": 360,
   "metadata": {},
   "outputs": [
    {
     "data": {
      "text/plain": [
       "[<matplotlib.lines.Line2D at 0x127141278>]"
      ]
     },
     "execution_count": 360,
     "metadata": {},
     "output_type": "execute_result"
    },
    {
     "data": {
      "image/png": "[encoded data removed]",
      "text/plain": [
       "<matplotlib.figure.Figure at 0x126b1a3c8>"
      ]
     },
     "metadata": {},
     "output_type": "display_data"
    }
   ],
   "source": [
    "mae_lst = []\n",
    "for c_value in np.arange(0.5, 50, 0.5):\n",
    "    lin_svr = SVR(kernel='linear', epsilon=0.01, C = c_value)\n",
    "    lin_svr.fit(X, y)\n",
    "    y_predicted = lin_svr.predict(X)\n",
    "    mae_lst.append(MAE(y, y_predicted))\n",
    "\n",
    "plt.figure(figsize=(15, 5))\n",
    "plt.xlabel('C value')\n",
    "plt.ylabel('MAE')\n",
    "plt.grid(lw=0.2)\n",
    "plt.plot(np.log(np.arange(0.5, 50, 0.5)), mae_lst)"
   ]
  },
  {
   "cell_type": "markdown",
   "metadata": {},
   "source": [
    "*Значения MAE близки к $0$ => модель переобучена.*"
   ]
  },
  {
   "cell_type": "code",
   "execution_count": 361,
   "metadata": {},
   "outputs": [
    {
     "data": {
      "text/plain": [
       "4.5"
      ]
     },
     "execution_count": 361,
     "metadata": {},
     "output_type": "execute_result"
    }
   ],
   "source": [
    "c_opt = np.arange(0.5, 50, 0.5)[mae_lst.index(min(mae_lst))] # выделяем оптимальное C через индекс минимальной MAE\n",
    "c_opt"
   ]
  },
  {
   "cell_type": "code",
   "execution_count": 362,
   "metadata": {},
   "outputs": [
    {
     "data": {
      "text/plain": [
       "<matplotlib.legend.Legend at 0x1274b6358>"
      ]
     },
     "execution_count": 362,
     "metadata": {},
     "output_type": "execute_result"
    },
    {
     "data": {
      "image/png": "[encoded data removed]",
      "text/plain": [
       "<matplotlib.figure.Figure at 0x12714add8>"
      ]
     },
     "metadata": {},
     "output_type": "display_data"
    }
   ],
   "source": [
    "lin_svr = SVR(kernel='linear', epsilon=0.01, C = c_opt)\n",
    "lin_svr.fit(X, y)\n",
    "y_predicted = lin_svr.predict(X)\n",
    "\n",
    "plt.figure(figsize=(15, 5))\n",
    "plt.title('Предсказания (линейное ядро при оптимальном С = ' + str(c_opt) + ')')\n",
    "plt.xlabel('x')\n",
    "plt.ylabel('y_predicted')\n",
    "plt.grid(lw=0.2)\n",
    "plt.plot(X, y_predicted, label='prediction')\n",
    "plt.plot(titanium['x'], titanium['y'], lw=3, label='actual value')\n",
    "plt.legend()"
   ]
  },
  {
   "cell_type": "markdown",
   "metadata": {},
   "source": [
    "### Полиномиальное ядро"
   ]
  },
  {
   "cell_type": "code",
   "execution_count": 363,
   "metadata": {},
   "outputs": [
    {
     "data": {
      "text/plain": [
       "[<matplotlib.lines.Line2D at 0x1274c5ef0>]"
      ]
     },
     "execution_count": 363,
     "metadata": {},
     "output_type": "execute_result"
    },
    {
     "data": {
      "image/png": "[encoded data removed]",
      "text/plain": [
       "<matplotlib.figure.Figure at 0x127168908>"
      ]
     },
     "metadata": {},
     "output_type": "display_data"
    }
   ],
   "source": [
    "mae_lst = []\n",
    "for c_value in np.arange(0.5, 50, 0.5):\n",
    "    poly_svr = SVR(kernel='poly', epsilon=0.01, C = c_value)\n",
    "    poly_svr.fit(X, y)\n",
    "    y_predicted = poly_svr.predict(X)\n",
    "    mae_lst.append(MAE(y, y_predicted))\n",
    "\n",
    "plt.figure(figsize=(15, 5))\n",
    "plt.xlabel('C value')\n",
    "plt.ylabel('MAE')\n",
    "plt.grid(lw=0.2)\n",
    "plt.plot(np.log(np.arange(0.5, 50, 0.5)), mae_lst)"
   ]
  },
  {
   "cell_type": "markdown",
   "metadata": {},
   "source": [
    "Значения MAE очень большие и растут с увеличением штрафа С => модель недообучена."
   ]
  },
  {
   "cell_type": "code",
   "execution_count": 364,
   "metadata": {},
   "outputs": [
    {
     "data": {
      "text/plain": [
       "1.0"
      ]
     },
     "execution_count": 364,
     "metadata": {},
     "output_type": "execute_result"
    }
   ],
   "source": [
    "c_opt = np.arange(0.5, 50, 0.5)[mae_lst.index(min(mae_lst))] # выделяем оптимальное C через индекс минимальной MAE\n",
    "c_opt"
   ]
  },
  {
   "cell_type": "code",
   "execution_count": 365,
   "metadata": {},
   "outputs": [
    {
     "data": {
      "text/plain": [
       "<matplotlib.legend.Legend at 0x12785fcc0>"
      ]
     },
     "execution_count": 365,
     "metadata": {},
     "output_type": "execute_result"
    },
    {
     "data": {
      "image/png": "[encoded data removed]",
      "text/plain": [
       "<matplotlib.figure.Figure at 0x1257a8470>"
      ]
     },
     "metadata": {},
     "output_type": "display_data"
    }
   ],
   "source": [
    "poly_svr = SVR(kernel='poly', epsilon=0.01, C = c_opt)\n",
    "poly_svr.fit(X, y)\n",
    "y_predicted = poly_svr.predict(X)\n",
    "\n",
    "plt.figure(figsize=(15, 5))\n",
    "plt.title('Предсказания (полиномиальное ядро при оптимальном С = ' + str(c_opt) + ')')\n",
    "plt.xlabel('x')\n",
    "plt.ylabel('y_predicted')\n",
    "plt.grid(lw=0.2)\n",
    "plt.plot(X, y_predicted, label='prediction')\n",
    "plt.plot(titanium['x'], titanium['y'], lw=3, label='actual value')\n",
    "plt.legend()"
   ]
  },
  {
   "cell_type": "markdown",
   "metadata": {},
   "source": [
    "### RBF"
   ]
  },
  {
   "cell_type": "code",
   "execution_count": 366,
   "metadata": {},
   "outputs": [
    {
     "data": {
      "text/plain": [
       "[<matplotlib.lines.Line2D at 0x127878860>]"
      ]
     },
     "execution_count": 366,
     "metadata": {},
     "output_type": "execute_result"
    },
    {
     "data": {
      "image/png": "[encoded data removed]",
      "text/plain": [
       "<matplotlib.figure.Figure at 0x127668080>"
      ]
     },
     "metadata": {},
     "output_type": "display_data"
    }
   ],
   "source": [
    "mae_lst = []\n",
    "for c_value in np.arange(0.5, 50, 0.5):\n",
    "    rbf_svr = SVR(kernel='rbf', epsilon=0.01, C = c_value)\n",
    "    rbf_svr.fit(X, y)\n",
    "    y_predicted = rbf_svr.predict(X)\n",
    "    mae_lst.append(MAE(y, y_predicted))\n",
    "\n",
    "plt.figure(figsize=(15, 5))\n",
    "plt.xlabel('C value')\n",
    "plt.ylabel('MAE')\n",
    "plt.grid(lw=0.2)\n",
    "plt.plot(np.log(np.arange(0.5, 50, 0.5)), mae_lst)"
   ]
  },
  {
   "cell_type": "code",
   "execution_count": 367,
   "metadata": {},
   "outputs": [
    {
     "data": {
      "text/plain": [
       "49.5"
      ]
     },
     "execution_count": 367,
     "metadata": {},
     "output_type": "execute_result"
    }
   ],
   "source": [
    "c_opt = np.arange(0.5, 50, 0.5)[mae_lst.index(min(mae_lst))] # выделяем оптимальное C через индекс минимальной MAE\n",
    "c_opt"
   ]
  },
  {
   "cell_type": "code",
   "execution_count": 368,
   "metadata": {},
   "outputs": [
    {
     "data": {
      "text/plain": [
       "<matplotlib.legend.Legend at 0x127a9c710>"
      ]
     },
     "execution_count": 368,
     "metadata": {},
     "output_type": "execute_result"
    },
    {
     "data": {
      "image/png": "[encoded data removed]",
      "text/plain": [
       "<matplotlib.figure.Figure at 0x12731da58>"
      ]
     },
     "metadata": {},
     "output_type": "display_data"
    }
   ],
   "source": [
    "rbf_svr = SVR(kernel='rbf', epsilon=0.01, C = c_opt)\n",
    "rbf_svr.fit(X, y)\n",
    "y_predicted = rbf_svr.predict(X)\n",
    "\n",
    "plt.figure(figsize=(15, 5))\n",
    "plt.title('Предсказания (ядро RBF при оптимальном С = ' + str(c_opt) + ')')\n",
    "plt.xlabel('x')\n",
    "plt.ylabel('y_predicted')\n",
    "plt.grid(lw=0.2)\n",
    "plt.plot(X, y_predicted, label='prediction')\n",
    "plt.plot(titanium['x'], titanium['y'], lw=3, label='actual value')\n",
    "plt.legend()"
   ]
  },
  {
   "cell_type": "markdown",
   "metadata": {},
   "source": [
    "# Определение языка слова (7 баллов)"
   ]
  },
  {
   "cell_type": "markdown",
   "metadata": {},
   "source": [
    "В данном задании вам необходимо построить модель, которая будет определять, на каком языке написано слово. Сделать это будет предложено двумя способами.\n",
    "\n",
    "Даны два текста - первые предложения произведения \"Война и Мир\" на английком и испанском, разбитые на слова."
   ]
  },
  {
   "cell_type": "markdown",
   "metadata": {},
   "source": [
    "## Загрузка (1 балл)\n",
    "\n",
    "Загрузите данные из файлов *war_and_peace_es.txt* и *war_and_peace_en.txt*.<br/> \n",
    "В результате вы должны получить pandas.DataFrame со столбцами *index* | *word* | *label*, где *index* - это индекс pandas, *word* - это слово и *label* - это метка класса (0 или 1)"
   ]
  },
  {
   "cell_type": "code",
   "execution_count": 17,
   "metadata": {},
   "outputs": [
    {
     "data": {
      "text/html": [
       "<div>\n",
       "<style>\n",
       "    .dataframe thead tr:only-child th {\n",
       "        text-align: right;\n",
       "    }\n",
       "\n",
       "    .dataframe thead th {\n",
       "        text-align: left;\n",
       "    }\n",
       "\n",
       "    .dataframe tbody tr th {\n",
       "        vertical-align: top;\n",
       "    }\n",
       "</style>\n",
       "<table border=\"1\" class=\"dataframe\">\n",
       "  <thead>\n",
       "    <tr style=\"text-align: right;\">\n",
       "      <th></th>\n",
       "      <th>word</th>\n",
       "    </tr>\n",
       "  </thead>\n",
       "  <tbody>\n",
       "    <tr>\n",
       "      <th>0</th>\n",
       "      <td>guerra</td>\n",
       "    </tr>\n",
       "    <tr>\n",
       "      <th>1</th>\n",
       "      <td>pace</td>\n",
       "    </tr>\n",
       "    <tr>\n",
       "      <th>2</th>\n",
       "      <td>lev</td>\n",
       "    </tr>\n",
       "    <tr>\n",
       "      <th>3</th>\n",
       "      <td>nicoevic</td>\n",
       "    </tr>\n",
       "    <tr>\n",
       "      <th>4</th>\n",
       "      <td>tolstj</td>\n",
       "    </tr>\n",
       "  </tbody>\n",
       "</table>\n",
       "</div>"
      ],
      "text/plain": [
       "       word\n",
       "0    guerra\n",
       "1      pace\n",
       "2       lev\n",
       "3  nicoevic\n",
       "4    tolstj"
      ]
     },
     "execution_count": 17,
     "metadata": {},
     "output_type": "execute_result"
    }
   ],
   "source": [
    "wap_es = pd.read_csv('Desktop/ML_data/war_and_peace_es.txt', sep=\" \", header=None, names=['word'])\n",
    "\n",
    "wap_es.head()"
   ]
  },
  {
   "cell_type": "code",
   "execution_count": 18,
   "metadata": {
    "collapsed": true
   },
   "outputs": [],
   "source": [
    "wap_es['label'] = np.zeros((len(wap_es),), dtype=np.int) # 0 - кодировка испанского слова"
   ]
  },
  {
   "cell_type": "code",
   "execution_count": 19,
   "metadata": {},
   "outputs": [
    {
     "data": {
      "text/html": [
       "<div>\n",
       "<style>\n",
       "    .dataframe thead tr:only-child th {\n",
       "        text-align: right;\n",
       "    }\n",
       "\n",
       "    .dataframe thead th {\n",
       "        text-align: left;\n",
       "    }\n",
       "\n",
       "    .dataframe tbody tr th {\n",
       "        vertical-align: top;\n",
       "    }\n",
       "</style>\n",
       "<table border=\"1\" class=\"dataframe\">\n",
       "  <thead>\n",
       "    <tr style=\"text-align: right;\">\n",
       "      <th></th>\n",
       "      <th>word</th>\n",
       "      <th>label</th>\n",
       "    </tr>\n",
       "  </thead>\n",
       "  <tbody>\n",
       "    <tr>\n",
       "      <th>0</th>\n",
       "      <td>guerra</td>\n",
       "      <td>0</td>\n",
       "    </tr>\n",
       "    <tr>\n",
       "      <th>1</th>\n",
       "      <td>pace</td>\n",
       "      <td>0</td>\n",
       "    </tr>\n",
       "    <tr>\n",
       "      <th>2</th>\n",
       "      <td>lev</td>\n",
       "      <td>0</td>\n",
       "    </tr>\n",
       "    <tr>\n",
       "      <th>3</th>\n",
       "      <td>nicoevic</td>\n",
       "      <td>0</td>\n",
       "    </tr>\n",
       "    <tr>\n",
       "      <th>4</th>\n",
       "      <td>tolstj</td>\n",
       "      <td>0</td>\n",
       "    </tr>\n",
       "  </tbody>\n",
       "</table>\n",
       "</div>"
      ],
      "text/plain": [
       "       word  label\n",
       "0    guerra      0\n",
       "1      pace      0\n",
       "2       lev      0\n",
       "3  nicoevic      0\n",
       "4    tolstj      0"
      ]
     },
     "execution_count": 19,
     "metadata": {},
     "output_type": "execute_result"
    }
   ],
   "source": [
    "wap_es.head()"
   ]
  },
  {
   "cell_type": "code",
   "execution_count": 20,
   "metadata": {},
   "outputs": [
    {
     "data": {
      "text/html": [
       "<div>\n",
       "<style>\n",
       "    .dataframe thead tr:only-child th {\n",
       "        text-align: right;\n",
       "    }\n",
       "\n",
       "    .dataframe thead th {\n",
       "        text-align: left;\n",
       "    }\n",
       "\n",
       "    .dataframe tbody tr th {\n",
       "        vertical-align: top;\n",
       "    }\n",
       "</style>\n",
       "<table border=\"1\" class=\"dataframe\">\n",
       "  <thead>\n",
       "    <tr style=\"text-align: right;\">\n",
       "      <th></th>\n",
       "      <th>word</th>\n",
       "      <th>label</th>\n",
       "    </tr>\n",
       "  </thead>\n",
       "  <tbody>\n",
       "    <tr>\n",
       "      <th>0</th>\n",
       "      <td>war</td>\n",
       "      <td>1</td>\n",
       "    </tr>\n",
       "    <tr>\n",
       "      <th>1</th>\n",
       "      <td>and</td>\n",
       "      <td>1</td>\n",
       "    </tr>\n",
       "    <tr>\n",
       "      <th>2</th>\n",
       "      <td>peace</td>\n",
       "      <td>1</td>\n",
       "    </tr>\n",
       "    <tr>\n",
       "      <th>3</th>\n",
       "      <td>leo</td>\n",
       "      <td>1</td>\n",
       "    </tr>\n",
       "    <tr>\n",
       "      <th>4</th>\n",
       "      <td>tolstoy</td>\n",
       "      <td>1</td>\n",
       "    </tr>\n",
       "  </tbody>\n",
       "</table>\n",
       "</div>"
      ],
      "text/plain": [
       "      word  label\n",
       "0      war      1\n",
       "1      and      1\n",
       "2    peace      1\n",
       "3      leo      1\n",
       "4  tolstoy      1"
      ]
     },
     "execution_count": 20,
     "metadata": {},
     "output_type": "execute_result"
    }
   ],
   "source": [
    "wap_en = pd.read_csv('Desktop/ML_data/war_and_peace_en.txt', sep=\" \", names=['word'], header=None)\n",
    "wap_en['label'] = np.ones((len(wap_en),), dtype=np.int) # 1 - кодировка английского слова\n",
    "wap_en.head()"
   ]
  },
  {
   "cell_type": "code",
   "execution_count": 21,
   "metadata": {
    "collapsed": true
   },
   "outputs": [],
   "source": [
    "df = wap_es.append(wap_en) \n",
    "\n",
    "df = df.reset_index(drop=True)"
   ]
  },
  {
   "cell_type": "code",
   "execution_count": 22,
   "metadata": {},
   "outputs": [
    {
     "data": {
      "text/html": [
       "<div>\n",
       "<style>\n",
       "    .dataframe thead tr:only-child th {\n",
       "        text-align: right;\n",
       "    }\n",
       "\n",
       "    .dataframe thead th {\n",
       "        text-align: left;\n",
       "    }\n",
       "\n",
       "    .dataframe tbody tr th {\n",
       "        vertical-align: top;\n",
       "    }\n",
       "</style>\n",
       "<table border=\"1\" class=\"dataframe\">\n",
       "  <thead>\n",
       "    <tr style=\"text-align: right;\">\n",
       "      <th></th>\n",
       "      <th>word</th>\n",
       "      <th>label</th>\n",
       "    </tr>\n",
       "  </thead>\n",
       "  <tbody>\n",
       "    <tr>\n",
       "      <th>11398</th>\n",
       "      <td>leave</td>\n",
       "      <td>1</td>\n",
       "    </tr>\n",
       "    <tr>\n",
       "      <th>11399</th>\n",
       "      <td>her</td>\n",
       "      <td>1</td>\n",
       "    </tr>\n",
       "    <tr>\n",
       "      <th>11400</th>\n",
       "      <td>task</td>\n",
       "      <td>1</td>\n",
       "    </tr>\n",
       "    <tr>\n",
       "      <th>11401</th>\n",
       "      <td>was</td>\n",
       "      <td>1</td>\n",
       "    </tr>\n",
       "    <tr>\n",
       "      <th>11402</th>\n",
       "      <td>accomplished</td>\n",
       "      <td>1</td>\n",
       "    </tr>\n",
       "  </tbody>\n",
       "</table>\n",
       "</div>"
      ],
      "text/plain": [
       "               word  label\n",
       "11398         leave      1\n",
       "11399           her      1\n",
       "11400          task      1\n",
       "11401           was      1\n",
       "11402  accomplished      1"
      ]
     },
     "execution_count": 22,
     "metadata": {},
     "output_type": "execute_result"
    }
   ],
   "source": [
    "df.tail()"
   ]
  },
  {
   "cell_type": "markdown",
   "metadata": {},
   "source": [
    "## Подход с n-граммами (2 балла)"
   ]
  },
  {
   "cell_type": "markdown",
   "metadata": {},
   "source": [
    "На этом этапе предлагается построить модель используя n-граммы слов, то есть последовательностях из n символов.<br/>\n",
    "Таким образом, признаками наших данных будут все найденные n-граммы слов, а значениями признаков будут частоты соответствующих n-грамм в слове.<br/>\n",
    "Например, для слова \"guerra\" би-граммами будут \"gu\", \"ue\", \"er\", \"rr\", \"ra\", каждая из которых встречается в нем с частотой 1.\n",
    "\n",
    "Для того, чтобы выделять n-граммы, удобно использовать `CountVectorizer()` с аргументами `analyzer='char'` и `ngram_range=(n_min, n_max)`. Вы наверняка встречались с этим векторизатором в предыдущем модуле.\n",
    "\n",
    "Таким образом, сделайте следующее:\n",
    "1. Задайте переменную RND_SEED, которая будет использоваться в любых генераторах случайных чисел в вашем коде (обычно параметр \"random_seed\")\n",
    "2. Разбейте данные на обучающую и отложенную выборку в пропорции 80/20\n",
    "3. Составьте [`Pipeline`](http://scikit-learn.org/stable/modules/generated/sklearn.pipeline.Pipeline.html), состоящий из `CountVectorizer()` и SVM с линейным ядром\n",
    "4. Исследуйте, как влияют размер n-грамм и величина штрафа `C` на предсказательную силу модели. Мера качества - accuracy."
   ]
  },
  {
   "cell_type": "code",
   "execution_count": 23,
   "metadata": {
    "collapsed": true
   },
   "outputs": [],
   "source": [
    "RND_SEED = 100"
   ]
  },
  {
   "cell_type": "code",
   "execution_count": 24,
   "metadata": {
    "collapsed": true
   },
   "outputs": [],
   "source": [
    "from sklearn.model_selection import train_test_split"
   ]
  },
  {
   "cell_type": "code",
   "execution_count": 25,
   "metadata": {
    "collapsed": true
   },
   "outputs": [],
   "source": [
    "X = df['word']\n",
    "y = df['label']"
   ]
  },
  {
   "cell_type": "code",
   "execution_count": 26,
   "metadata": {
    "collapsed": true
   },
   "outputs": [],
   "source": [
    "X_train, X_test, y_train, y_test = train_test_split(X, y, test_size=0.8, random_state=RND_SEED)"
   ]
  },
  {
   "cell_type": "code",
   "execution_count": 27,
   "metadata": {
    "collapsed": true
   },
   "outputs": [],
   "source": [
    "from sklearn.svm import SVC\n",
    "from sklearn.pipeline import Pipeline\n",
    "from sklearn.feature_extraction.text import CountVectorizer\n",
    "from sklearn.metrics import accuracy_score"
   ]
  },
  {
   "cell_type": "code",
   "execution_count": 28,
   "metadata": {
    "collapsed": true
   },
   "outputs": [],
   "source": [
    "n_min = 3 # минимальное число букв для ngram\n",
    "n_max = 3 # максимальное число букв для ngram"
   ]
  },
  {
   "cell_type": "code",
   "execution_count": 29,
   "metadata": {
    "collapsed": true
   },
   "outputs": [],
   "source": [
    "lin_svc = SVC(kernel='linear')\n",
    "\n",
    "pipeline = Pipeline([('countvect', CountVectorizer(analyzer='char', ngram_range=(n_min, n_max))), ('svc', lin_svc)])"
   ]
  },
  {
   "cell_type": "code",
   "execution_count": 30,
   "metadata": {
    "collapsed": true
   },
   "outputs": [],
   "source": [
    "ppln_clf = pipeline.fit(X_test, y_test)"
   ]
  },
  {
   "cell_type": "code",
   "execution_count": 31,
   "metadata": {},
   "outputs": [
    {
     "data": {
      "text/plain": [
       "0.9717198290036172"
      ]
     },
     "execution_count": 31,
     "metadata": {},
     "output_type": "execute_result"
    }
   ],
   "source": [
    "acc_score = accuracy_score(ppln_clf.predict(X_test), y_test)\n",
    "acc_score"
   ]
  },
  {
   "cell_type": "code",
   "execution_count": 32,
   "metadata": {
    "collapsed": true
   },
   "outputs": [],
   "source": [
    "from sklearn.model_selection import GridSearchCV"
   ]
  },
  {
   "cell_type": "code",
   "execution_count": 33,
   "metadata": {
    "collapsed": true
   },
   "outputs": [],
   "source": [
    "n_grams = [(i, i) for i in range(1, 4)]\n",
    "Cs = np.arange(0.5, 50, 1)"
   ]
  },
  {
   "cell_type": "code",
   "execution_count": 34,
   "metadata": {
    "collapsed": true
   },
   "outputs": [],
   "source": [
    "params = {'countvect__ngram_range':n_grams, 'svc__C':Cs}"
   ]
  },
  {
   "cell_type": "code",
   "execution_count": 35,
   "metadata": {
    "collapsed": true
   },
   "outputs": [],
   "source": [
    "grdcv = GridSearchCV(Pipeline([('countvect', CountVectorizer(analyzer='char')),\n",
    "                               ('svc', lin_svc)]), params, scoring='accuracy', n_jobs=-1)"
   ]
  },
  {
   "cell_type": "code",
   "execution_count": 36,
   "metadata": {},
   "outputs": [
    {
     "data": {
      "text/plain": [
       "GridSearchCV(cv=None, error_score='raise',\n",
       "       estimator=Pipeline(steps=[('countvect', CountVectorizer(analyzer='char', binary=False, decode_error='strict',\n",
       "        dtype=<class 'numpy.int64'>, encoding='utf-8', input='content',\n",
       "        lowercase=True, max_df=1.0, max_features=None, min_df=1,\n",
       "        ngram_range=(1, 1), preprocessor=None, stop_words=None,\n",
       "        ...,\n",
       "  max_iter=-1, probability=False, random_state=None, shrinking=True,\n",
       "  tol=0.001, verbose=False))]),\n",
       "       fit_params={}, iid=True, n_jobs=-1,\n",
       "       param_grid={'countvect__ngram_range': [(1, 1), (2, 2), (3, 3)], 'svc__C': array([  0.5,   1.5,   2.5,   3.5,   4.5,   5.5,   6.5,   7.5,   8.5,\n",
       "         9.5,  10.5,  11.5,  12.5,  13.5,  14.5,  15.5,  16.5,  17.5,\n",
       "        18.5,  19.5,  20.5,  21.5,  22.5,  23.5,  24.5,  25.5,  26.5,\n",
       "        27.5,  28.5,  29.5,  30.5,  31.5,  32.5,  33.5,  34.5,  35.5,\n",
       "        36.5,  37.5,  38.5,  39.5,  40.5,  41.5,  42.5,  43.5,  44.5,\n",
       "        45.5,  46.5,  47.5,  48.5,  49.5])},\n",
       "       pre_dispatch='2*n_jobs', refit=True, return_train_score=True,\n",
       "       scoring='accuracy', verbose=0)"
      ]
     },
     "execution_count": 36,
     "metadata": {},
     "output_type": "execute_result"
    }
   ],
   "source": [
    "grdcv.fit(X_train, y_train)"
   ]
  },
  {
   "cell_type": "code",
   "execution_count": 37,
   "metadata": {},
   "outputs": [
    {
     "data": {
      "text/plain": [
       "{'countvect__ngram_range': (2, 2), 'svc__C': 3.5}"
      ]
     },
     "execution_count": 37,
     "metadata": {},
     "output_type": "execute_result"
    }
   ],
   "source": [
    "grdcv.best_params_"
   ]
  },
  {
   "cell_type": "code",
   "execution_count": 38,
   "metadata": {},
   "outputs": [
    {
     "data": {
      "text/plain": [
       "0.89035087719298245"
      ]
     },
     "execution_count": 38,
     "metadata": {},
     "output_type": "execute_result"
    }
   ],
   "source": [
    "grdcv.best_score_"
   ]
  },
  {
   "cell_type": "code",
   "execution_count": 39,
   "metadata": {},
   "outputs": [
    {
     "name": "stderr",
     "output_type": "stream",
     "text": [
      "/Users/maxim_anisimov/anaconda/lib/python3.6/site-packages/sklearn/model_selection/_search.py:667: DeprecationWarning: The grid_scores_ attribute was deprecated in version 0.18 in favor of the more elaborate cv_results_ attribute. The grid_scores_ attribute will not be available from 0.20\n",
      "  DeprecationWarning)\n"
     ]
    },
    {
     "data": {
      "text/plain": [
       "[mean: 0.75833, std: 0.00821, params: {'countvect__ngram_range': (1, 1), 'svc__C': 0.5},\n",
       " mean: 0.76842, std: 0.00468, params: {'countvect__ngram_range': (1, 1), 'svc__C': 1.5},\n",
       " mean: 0.76667, std: 0.00434, params: {'countvect__ngram_range': (1, 1), 'svc__C': 2.5},\n",
       " mean: 0.76579, std: 0.00492, params: {'countvect__ngram_range': (1, 1), 'svc__C': 3.5},\n",
       " mean: 0.76579, std: 0.00568, params: {'countvect__ngram_range': (1, 1), 'svc__C': 4.5},\n",
       " mean: 0.76491, std: 0.00508, params: {'countvect__ngram_range': (1, 1), 'svc__C': 5.5},\n",
       " mean: 0.76491, std: 0.00508, params: {'countvect__ngram_range': (1, 1), 'svc__C': 6.5},\n",
       " mean: 0.76491, std: 0.00508, params: {'countvect__ngram_range': (1, 1), 'svc__C': 7.5},\n",
       " mean: 0.76491, std: 0.00508, params: {'countvect__ngram_range': (1, 1), 'svc__C': 8.5},\n",
       " mean: 0.76491, std: 0.00508, params: {'countvect__ngram_range': (1, 1), 'svc__C': 9.5},\n",
       " mean: 0.76623, std: 0.00328, params: {'countvect__ngram_range': (1, 1), 'svc__C': 10.5},\n",
       " mean: 0.76491, std: 0.00508, params: {'countvect__ngram_range': (1, 1), 'svc__C': 11.5},\n",
       " mean: 0.76535, std: 0.00447, params: {'countvect__ngram_range': (1, 1), 'svc__C': 12.5},\n",
       " mean: 0.76491, std: 0.00407, params: {'countvect__ngram_range': (1, 1), 'svc__C': 13.5},\n",
       " mean: 0.76579, std: 0.00284, params: {'countvect__ngram_range': (1, 1), 'svc__C': 14.5},\n",
       " mean: 0.76579, std: 0.00387, params: {'countvect__ngram_range': (1, 1), 'svc__C': 15.5},\n",
       " mean: 0.76447, std: 0.00387, params: {'countvect__ngram_range': (1, 1), 'svc__C': 16.5},\n",
       " mean: 0.76491, std: 0.00328, params: {'countvect__ngram_range': (1, 1), 'svc__C': 17.5},\n",
       " mean: 0.76535, std: 0.00270, params: {'countvect__ngram_range': (1, 1), 'svc__C': 18.5},\n",
       " mean: 0.76535, std: 0.00270, params: {'countvect__ngram_range': (1, 1), 'svc__C': 19.5},\n",
       " mean: 0.76535, std: 0.00270, params: {'countvect__ngram_range': (1, 1), 'svc__C': 20.5},\n",
       " mean: 0.76535, std: 0.00270, params: {'countvect__ngram_range': (1, 1), 'svc__C': 21.5},\n",
       " mean: 0.76535, std: 0.00270, params: {'countvect__ngram_range': (1, 1), 'svc__C': 22.5},\n",
       " mean: 0.76491, std: 0.00328, params: {'countvect__ngram_range': (1, 1), 'svc__C': 23.5},\n",
       " mean: 0.76535, std: 0.00270, params: {'countvect__ngram_range': (1, 1), 'svc__C': 24.5},\n",
       " mean: 0.76491, std: 0.00328, params: {'countvect__ngram_range': (1, 1), 'svc__C': 25.5},\n",
       " mean: 0.76491, std: 0.00328, params: {'countvect__ngram_range': (1, 1), 'svc__C': 26.5},\n",
       " mean: 0.76491, std: 0.00328, params: {'countvect__ngram_range': (1, 1), 'svc__C': 27.5},\n",
       " mean: 0.76491, std: 0.00328, params: {'countvect__ngram_range': (1, 1), 'svc__C': 28.5},\n",
       " mean: 0.76491, std: 0.00328, params: {'countvect__ngram_range': (1, 1), 'svc__C': 29.5},\n",
       " mean: 0.76491, std: 0.00328, params: {'countvect__ngram_range': (1, 1), 'svc__C': 30.5},\n",
       " mean: 0.76491, std: 0.00328, params: {'countvect__ngram_range': (1, 1), 'svc__C': 31.5},\n",
       " mean: 0.76491, std: 0.00328, params: {'countvect__ngram_range': (1, 1), 'svc__C': 32.5},\n",
       " mean: 0.76491, std: 0.00328, params: {'countvect__ngram_range': (1, 1), 'svc__C': 33.5},\n",
       " mean: 0.76491, std: 0.00328, params: {'countvect__ngram_range': (1, 1), 'svc__C': 34.5},\n",
       " mean: 0.76491, std: 0.00328, params: {'countvect__ngram_range': (1, 1), 'svc__C': 35.5},\n",
       " mean: 0.76491, std: 0.00328, params: {'countvect__ngram_range': (1, 1), 'svc__C': 36.5},\n",
       " mean: 0.76491, std: 0.00328, params: {'countvect__ngram_range': (1, 1), 'svc__C': 37.5},\n",
       " mean: 0.76491, std: 0.00328, params: {'countvect__ngram_range': (1, 1), 'svc__C': 38.5},\n",
       " mean: 0.76491, std: 0.00328, params: {'countvect__ngram_range': (1, 1), 'svc__C': 39.5},\n",
       " mean: 0.76491, std: 0.00328, params: {'countvect__ngram_range': (1, 1), 'svc__C': 40.5},\n",
       " mean: 0.76491, std: 0.00328, params: {'countvect__ngram_range': (1, 1), 'svc__C': 41.5},\n",
       " mean: 0.76491, std: 0.00328, params: {'countvect__ngram_range': (1, 1), 'svc__C': 42.5},\n",
       " mean: 0.76491, std: 0.00328, params: {'countvect__ngram_range': (1, 1), 'svc__C': 43.5},\n",
       " mean: 0.76491, std: 0.00328, params: {'countvect__ngram_range': (1, 1), 'svc__C': 44.5},\n",
       " mean: 0.76491, std: 0.00328, params: {'countvect__ngram_range': (1, 1), 'svc__C': 45.5},\n",
       " mean: 0.76491, std: 0.00328, params: {'countvect__ngram_range': (1, 1), 'svc__C': 46.5},\n",
       " mean: 0.76491, std: 0.00328, params: {'countvect__ngram_range': (1, 1), 'svc__C': 47.5},\n",
       " mean: 0.76491, std: 0.00328, params: {'countvect__ngram_range': (1, 1), 'svc__C': 48.5},\n",
       " mean: 0.76491, std: 0.00328, params: {'countvect__ngram_range': (1, 1), 'svc__C': 49.5},\n",
       " mean: 0.87149, std: 0.01443, params: {'countvect__ngram_range': (2, 2), 'svc__C': 0.5},\n",
       " mean: 0.88289, std: 0.00752, params: {'countvect__ngram_range': (2, 2), 'svc__C': 1.5},\n",
       " mean: 0.88816, std: 0.00468, params: {'countvect__ngram_range': (2, 2), 'svc__C': 2.5},\n",
       " mean: 0.89035, std: 0.00328, params: {'countvect__ngram_range': (2, 2), 'svc__C': 3.5},\n",
       " mean: 0.88684, std: 0.00430, params: {'countvect__ngram_range': (2, 2), 'svc__C': 4.5},\n",
       " mean: 0.88816, std: 0.00468, params: {'countvect__ngram_range': (2, 2), 'svc__C': 5.5},\n",
       " mean: 0.88596, std: 0.00530, params: {'countvect__ngram_range': (2, 2), 'svc__C': 6.5},\n",
       " mean: 0.88509, std: 0.00407, params: {'countvect__ngram_range': (2, 2), 'svc__C': 7.5},\n",
       " mean: 0.88158, std: 0.00387, params: {'countvect__ngram_range': (2, 2), 'svc__C': 8.5},\n",
       " mean: 0.88070, std: 0.00407, params: {'countvect__ngram_range': (2, 2), 'svc__C': 9.5},\n",
       " mean: 0.87939, std: 0.00328, params: {'countvect__ngram_range': (2, 2), 'svc__C': 10.5},\n",
       " mean: 0.88026, std: 0.00372, params: {'countvect__ngram_range': (2, 2), 'svc__C': 11.5},\n",
       " mean: 0.87895, std: 0.00468, params: {'countvect__ngram_range': (2, 2), 'svc__C': 12.5},\n",
       " mean: 0.87807, std: 0.00592, params: {'countvect__ngram_range': (2, 2), 'svc__C': 13.5},\n",
       " mean: 0.87895, std: 0.00568, params: {'countvect__ngram_range': (2, 2), 'svc__C': 14.5},\n",
       " mean: 0.87939, std: 0.00592, params: {'countvect__ngram_range': (2, 2), 'svc__C': 15.5},\n",
       " mean: 0.87939, std: 0.00682, params: {'countvect__ngram_range': (2, 2), 'svc__C': 16.5},\n",
       " mean: 0.87807, std: 0.00875, params: {'countvect__ngram_range': (2, 2), 'svc__C': 17.5},\n",
       " mean: 0.87851, std: 0.00868, params: {'countvect__ngram_range': (2, 2), 'svc__C': 18.5},\n",
       " mean: 0.87895, std: 0.00985, params: {'countvect__ngram_range': (2, 2), 'svc__C': 19.5},\n",
       " mean: 0.87807, std: 0.01103, params: {'countvect__ngram_range': (2, 2), 'svc__C': 20.5},\n",
       " mean: 0.87895, std: 0.00879, params: {'countvect__ngram_range': (2, 2), 'svc__C': 21.5},\n",
       " mean: 0.87632, std: 0.00879, params: {'countvect__ngram_range': (2, 2), 'svc__C': 22.5},\n",
       " mean: 0.87632, std: 0.00879, params: {'countvect__ngram_range': (2, 2), 'svc__C': 23.5},\n",
       " mean: 0.87500, std: 0.00918, params: {'countvect__ngram_range': (2, 2), 'svc__C': 24.5},\n",
       " mean: 0.87456, std: 0.00868, params: {'countvect__ngram_range': (2, 2), 'svc__C': 25.5},\n",
       " mean: 0.87456, std: 0.00868, params: {'countvect__ngram_range': (2, 2), 'svc__C': 26.5},\n",
       " mean: 0.87281, std: 0.00926, params: {'countvect__ngram_range': (2, 2), 'svc__C': 27.5},\n",
       " mean: 0.87368, std: 0.00985, params: {'countvect__ngram_range': (2, 2), 'svc__C': 28.5},\n",
       " mean: 0.87325, std: 0.00939, params: {'countvect__ngram_range': (2, 2), 'svc__C': 29.5},\n",
       " mean: 0.87325, std: 0.00939, params: {'countvect__ngram_range': (2, 2), 'svc__C': 30.5},\n",
       " mean: 0.87281, std: 0.01032, params: {'countvect__ngram_range': (2, 2), 'svc__C': 31.5},\n",
       " mean: 0.87193, std: 0.01149, params: {'countvect__ngram_range': (2, 2), 'svc__C': 32.5},\n",
       " mean: 0.87105, std: 0.01267, params: {'countvect__ngram_range': (2, 2), 'svc__C': 33.5},\n",
       " mean: 0.87325, std: 0.01183, params: {'countvect__ngram_range': (2, 2), 'svc__C': 34.5},\n",
       " mean: 0.87281, std: 0.01188, params: {'countvect__ngram_range': (2, 2), 'svc__C': 35.5},\n",
       " mean: 0.87325, std: 0.01183, params: {'countvect__ngram_range': (2, 2), 'svc__C': 36.5},\n",
       " mean: 0.87325, std: 0.01076, params: {'countvect__ngram_range': (2, 2), 'svc__C': 37.5},\n",
       " mean: 0.87325, std: 0.01076, params: {'countvect__ngram_range': (2, 2), 'svc__C': 38.5},\n",
       " mean: 0.87281, std: 0.01236, params: {'countvect__ngram_range': (2, 2), 'svc__C': 39.5},\n",
       " mean: 0.87325, std: 0.01183, params: {'countvect__ngram_range': (2, 2), 'svc__C': 40.5},\n",
       " mean: 0.87149, std: 0.01291, params: {'countvect__ngram_range': (2, 2), 'svc__C': 41.5},\n",
       " mean: 0.87237, std: 0.01346, params: {'countvect__ngram_range': (2, 2), 'svc__C': 42.5},\n",
       " mean: 0.87105, std: 0.01397, params: {'countvect__ngram_range': (2, 2), 'svc__C': 43.5},\n",
       " mean: 0.87237, std: 0.01409, params: {'countvect__ngram_range': (2, 2), 'svc__C': 44.5},\n",
       " mean: 0.87368, std: 0.01239, params: {'countvect__ngram_range': (2, 2), 'svc__C': 45.5},\n",
       " mean: 0.87412, std: 0.01524, params: {'countvect__ngram_range': (2, 2), 'svc__C': 46.5},\n",
       " mean: 0.87368, std: 0.01477, params: {'countvect__ngram_range': (2, 2), 'svc__C': 47.5},\n",
       " mean: 0.87500, std: 0.01409, params: {'countvect__ngram_range': (2, 2), 'svc__C': 48.5},\n",
       " mean: 0.87193, std: 0.01402, params: {'countvect__ngram_range': (2, 2), 'svc__C': 49.5},\n",
       " mean: 0.86798, std: 0.00248, params: {'countvect__ngram_range': (3, 3), 'svc__C': 0.5},\n",
       " mean: 0.86930, std: 0.00868, params: {'countvect__ngram_range': (3, 3), 'svc__C': 1.5},\n",
       " mean: 0.87193, std: 0.00434, params: {'countvect__ngram_range': (3, 3), 'svc__C': 2.5},\n",
       " mean: 0.87325, std: 0.00248, params: {'countvect__ngram_range': (3, 3), 'svc__C': 3.5},\n",
       " mean: 0.87105, std: 0.00468, params: {'countvect__ngram_range': (3, 3), 'svc__C': 4.5},\n",
       " mean: 0.86974, std: 0.00671, params: {'countvect__ngram_range': (3, 3), 'svc__C': 5.5},\n",
       " mean: 0.86842, std: 0.00839, params: {'countvect__ngram_range': (3, 3), 'svc__C': 6.5},\n",
       " mean: 0.86798, std: 0.00868, params: {'countvect__ngram_range': (3, 3), 'svc__C': 7.5},\n",
       " mean: 0.86667, std: 0.00777, params: {'countvect__ngram_range': (3, 3), 'svc__C': 8.5},\n",
       " mean: 0.86667, std: 0.00592, params: {'countvect__ngram_range': (3, 3), 'svc__C': 9.5},\n",
       " mean: 0.86579, std: 0.00468, params: {'countvect__ngram_range': (3, 3), 'svc__C': 10.5},\n",
       " mean: 0.86360, std: 0.00434, params: {'countvect__ngram_range': (3, 3), 'svc__C': 11.5},\n",
       " mean: 0.86316, std: 0.00468, params: {'countvect__ngram_range': (3, 3), 'svc__C': 12.5},\n",
       " mean: 0.86316, std: 0.00468, params: {'countvect__ngram_range': (3, 3), 'svc__C': 13.5},\n",
       " mean: 0.86272, std: 0.00496, params: {'countvect__ngram_range': (3, 3), 'svc__C': 14.5},\n",
       " mean: 0.86360, std: 0.00447, params: {'countvect__ngram_range': (3, 3), 'svc__C': 15.5},\n",
       " mean: 0.86404, std: 0.00508, params: {'countvect__ngram_range': (3, 3), 'svc__C': 16.5},\n",
       " mean: 0.86491, std: 0.00731, params: {'countvect__ngram_range': (3, 3), 'svc__C': 17.5},\n",
       " mean: 0.86491, std: 0.00731, params: {'countvect__ngram_range': (3, 3), 'svc__C': 18.5},\n",
       " mean: 0.86360, std: 0.00762, params: {'countvect__ngram_range': (3, 3), 'svc__C': 19.5},\n",
       " mean: 0.86316, std: 0.00811, params: {'countvect__ngram_range': (3, 3), 'svc__C': 20.5},\n",
       " mean: 0.86316, std: 0.00811, params: {'countvect__ngram_range': (3, 3), 'svc__C': 21.5},\n",
       " mean: 0.86360, std: 0.00762, params: {'countvect__ngram_range': (3, 3), 'svc__C': 22.5},\n",
       " mean: 0.86360, std: 0.00762, params: {'countvect__ngram_range': (3, 3), 'svc__C': 23.5},\n",
       " mean: 0.86360, std: 0.00762, params: {'countvect__ngram_range': (3, 3), 'svc__C': 24.5},\n",
       " mean: 0.86404, std: 0.00715, params: {'countvect__ngram_range': (3, 3), 'svc__C': 25.5},\n",
       " mean: 0.86491, std: 0.00731, params: {'countvect__ngram_range': (3, 3), 'svc__C': 26.5},\n",
       " mean: 0.86404, std: 0.00715, params: {'countvect__ngram_range': (3, 3), 'svc__C': 27.5},\n",
       " mean: 0.86491, std: 0.00630, params: {'countvect__ngram_range': (3, 3), 'svc__C': 28.5},\n",
       " mean: 0.86447, std: 0.00671, params: {'countvect__ngram_range': (3, 3), 'svc__C': 29.5},\n",
       " mean: 0.86360, std: 0.00656, params: {'countvect__ngram_range': (3, 3), 'svc__C': 30.5},\n",
       " mean: 0.86360, std: 0.00656, params: {'countvect__ngram_range': (3, 3), 'svc__C': 31.5},\n",
       " mean: 0.86404, std: 0.00611, params: {'countvect__ngram_range': (3, 3), 'svc__C': 32.5},\n",
       " mean: 0.86447, std: 0.00468, params: {'countvect__ngram_range': (3, 3), 'svc__C': 33.5},\n",
       " mean: 0.86404, std: 0.00508, params: {'countvect__ngram_range': (3, 3), 'svc__C': 34.5},\n",
       " mean: 0.86360, std: 0.00551, params: {'countvect__ngram_range': (3, 3), 'svc__C': 35.5},\n",
       " mean: 0.86228, std: 0.00484, params: {'countvect__ngram_range': (3, 3), 'svc__C': 36.5},\n",
       " mean: 0.86272, std: 0.00434, params: {'countvect__ngram_range': (3, 3), 'svc__C': 37.5},\n",
       " mean: 0.86316, std: 0.00387, params: {'countvect__ngram_range': (3, 3), 'svc__C': 38.5},\n",
       " mean: 0.86316, std: 0.00492, params: {'countvect__ngram_range': (3, 3), 'svc__C': 39.5},\n",
       " mean: 0.86272, std: 0.00434, params: {'countvect__ngram_range': (3, 3), 'svc__C': 40.5},\n",
       " mean: 0.86272, std: 0.00224, params: {'countvect__ngram_range': (3, 3), 'svc__C': 41.5},\n",
       " mean: 0.86272, std: 0.00224, params: {'countvect__ngram_range': (3, 3), 'svc__C': 42.5},\n",
       " mean: 0.86272, std: 0.00224, params: {'countvect__ngram_range': (3, 3), 'svc__C': 43.5},\n",
       " mean: 0.86272, std: 0.00224, params: {'countvect__ngram_range': (3, 3), 'svc__C': 44.5},\n",
       " mean: 0.86228, std: 0.00270, params: {'countvect__ngram_range': (3, 3), 'svc__C': 45.5},\n",
       " mean: 0.86140, std: 0.00164, params: {'countvect__ngram_range': (3, 3), 'svc__C': 46.5},\n",
       " mean: 0.86140, std: 0.00270, params: {'countvect__ngram_range': (3, 3), 'svc__C': 47.5},\n",
       " mean: 0.86228, std: 0.00164, params: {'countvect__ngram_range': (3, 3), 'svc__C': 48.5},\n",
       " mean: 0.86228, std: 0.00164, params: {'countvect__ngram_range': (3, 3), 'svc__C': 49.5}]"
      ]
     },
     "execution_count": 39,
     "metadata": {},
     "output_type": "execute_result"
    }
   ],
   "source": [
    "grdcv.grid_scores_"
   ]
  },
  {
   "cell_type": "code",
   "execution_count": 40,
   "metadata": {},
   "outputs": [
    {
     "name": "stderr",
     "output_type": "stream",
     "text": [
      "/Users/maxim_anisimov/anaconda/lib/python3.6/site-packages/sklearn/model_selection/_search.py:667: DeprecationWarning: The grid_scores_ attribute was deprecated in version 0.18 in favor of the more elaborate cv_results_ attribute. The grid_scores_ attribute will not be available from 0.20\n",
      "  DeprecationWarning)\n"
     ]
    },
    {
     "data": {
      "text/plain": [
       "<matplotlib.legend.Legend at 0x11c1f2240>"
      ]
     },
     "execution_count": 40,
     "metadata": {},
     "output_type": "execute_result"
    },
    {
     "data": {
      "image/png": "[encoded data removed]",
      "text/plain": [
       "<matplotlib.figure.Figure at 0x11c0f5518>"
      ]
     },
     "metadata": {},
     "output_type": "display_data"
    }
   ],
   "source": [
    "scores = [x[1] for x in grdcv.grid_scores_]\n",
    "scores = np.array(scores).reshape(len(n_grams), len(Cs))\n",
    "\n",
    "plt.figure(figsize=(15, 10))\n",
    "plt.grid()\n",
    "for ind, i in enumerate(n_grams):\n",
    "    plt.plot(Cs, scores[ind], lw=3, label='n_grams: ' + str(i))\n",
    "plt.legend()\n",
    "plt.xlabel('C value')\n",
    "plt.ylabel('Accuracy score')\n",
    "plt.legend(bbox_to_anchor=(1.05, 1), loc=2, borderaxespad=0.)"
   ]
  },
  {
   "cell_type": "markdown",
   "metadata": {},
   "source": [
    "## Подход с пользовательским ядром\n",
    "### Подготовка данных (1 балла)\n",
    "\n",
    "Особенностью пользовательского ядра в sklean.SVC является то, что на вход оно может принимать на вход **только** вектора чисел.<br/>\n",
    "В нашем случае это будут индексы соответствующих слов из корпуса. То есть вместо вектора ['treat', 'celebrit', 'prince', ...] на вход в ядро подается вектор из индексов [9209, 11145, 7735, ...] с помощью которых вы будете находить сами слова.\n",
    "\n",
    "Прежде чем мы начнем строить ядро, надо подготовить данные. Для этого:\n",
    "1. Задайте переменную RND_SEED, которая будет использоваться в любых генераторах случайных чисел в вашем коде (обычно параметр \"random_seed\")\n",
    "2. Случайным образом перемешайте и заново проиндексируйте таблицу, полученную выше (используйте методы `df.sample()` и `df.reset_index()`)\n",
    "3. Ядро может вычисляться достаточно долго, поэтому можете урезать таблицу, но оставить в ней не менее 1000 слов.\n",
    "4. Разбейте данные на обучающую и контрольную выборку в пропорции 80/20\n",
    "\n",
    "В результате вы должны получить вектор-столбец `X_train`, `X_test` с **индексами** слов и векторы `y_train`, `y_test` с метками классов."
   ]
  },
  {
   "cell_type": "code",
   "execution_count": 310,
   "metadata": {
    "collapsed": true
   },
   "outputs": [],
   "source": [
    "RND_SEED = 100"
   ]
  },
  {
   "cell_type": "code",
   "execution_count": 311,
   "metadata": {
    "collapsed": true
   },
   "outputs": [],
   "source": [
    "df_shuffled = df"
   ]
  },
  {
   "cell_type": "code",
   "execution_count": 312,
   "metadata": {},
   "outputs": [
    {
     "data": {
      "text/html": [
       "<div>\n",
       "<style>\n",
       "    .dataframe thead tr:only-child th {\n",
       "        text-align: right;\n",
       "    }\n",
       "\n",
       "    .dataframe thead th {\n",
       "        text-align: left;\n",
       "    }\n",
       "\n",
       "    .dataframe tbody tr th {\n",
       "        vertical-align: top;\n",
       "    }\n",
       "</style>\n",
       "<table border=\"1\" class=\"dataframe\">\n",
       "  <thead>\n",
       "    <tr style=\"text-align: right;\">\n",
       "      <th></th>\n",
       "      <th>index</th>\n",
       "      <th>word</th>\n",
       "      <th>label</th>\n",
       "    </tr>\n",
       "  </thead>\n",
       "  <tbody>\n",
       "    <tr>\n",
       "      <th>0</th>\n",
       "      <td>4714</td>\n",
       "      <td>sorrise</td>\n",
       "      <td>0</td>\n",
       "    </tr>\n",
       "    <tr>\n",
       "      <th>1</th>\n",
       "      <td>1518</td>\n",
       "      <td>meinen</td>\n",
       "      <td>0</td>\n",
       "    </tr>\n",
       "    <tr>\n",
       "      <th>2</th>\n",
       "      <td>2834</td>\n",
       "      <td>qualcosa</td>\n",
       "      <td>0</td>\n",
       "    </tr>\n",
       "    <tr>\n",
       "      <th>3</th>\n",
       "      <td>8896</td>\n",
       "      <td>spinning</td>\n",
       "      <td>1</td>\n",
       "    </tr>\n",
       "    <tr>\n",
       "      <th>4</th>\n",
       "      <td>10118</td>\n",
       "      <td>mans</td>\n",
       "      <td>1</td>\n",
       "    </tr>\n",
       "    <tr>\n",
       "      <th>5</th>\n",
       "      <td>8487</td>\n",
       "      <td>anna</td>\n",
       "      <td>1</td>\n",
       "    </tr>\n",
       "    <tr>\n",
       "      <th>6</th>\n",
       "      <td>9724</td>\n",
       "      <td>she</td>\n",
       "      <td>1</td>\n",
       "    </tr>\n",
       "    <tr>\n",
       "      <th>7</th>\n",
       "      <td>6998</td>\n",
       "      <td>refused</td>\n",
       "      <td>1</td>\n",
       "    </tr>\n",
       "    <tr>\n",
       "      <th>8</th>\n",
       "      <td>9656</td>\n",
       "      <td>the</td>\n",
       "      <td>1</td>\n",
       "    </tr>\n",
       "    <tr>\n",
       "      <th>9</th>\n",
       "      <td>6539</td>\n",
       "      <td>scherer</td>\n",
       "      <td>1</td>\n",
       "    </tr>\n",
       "    <tr>\n",
       "      <th>10</th>\n",
       "      <td>146</td>\n",
       "      <td>personaggio</td>\n",
       "      <td>0</td>\n",
       "    </tr>\n",
       "    <tr>\n",
       "      <th>11</th>\n",
       "      <td>7022</td>\n",
       "      <td>understood</td>\n",
       "      <td>1</td>\n",
       "    </tr>\n",
       "    <tr>\n",
       "      <th>12</th>\n",
       "      <td>2408</td>\n",
       "      <td>persona</td>\n",
       "      <td>0</td>\n",
       "    </tr>\n",
       "    <tr>\n",
       "      <th>13</th>\n",
       "      <td>836</td>\n",
       "      <td>aggiunse</td>\n",
       "      <td>0</td>\n",
       "    </tr>\n",
       "    <tr>\n",
       "      <th>14</th>\n",
       "      <td>7581</td>\n",
       "      <td>did</td>\n",
       "      <td>1</td>\n",
       "    </tr>\n",
       "    <tr>\n",
       "      <th>15</th>\n",
       "      <td>3778</td>\n",
       "      <td>riunire</td>\n",
       "      <td>0</td>\n",
       "    </tr>\n",
       "    <tr>\n",
       "      <th>16</th>\n",
       "      <td>10902</td>\n",
       "      <td>had</td>\n",
       "      <td>1</td>\n",
       "    </tr>\n",
       "    <tr>\n",
       "      <th>17</th>\n",
       "      <td>2086</td>\n",
       "      <td>far</td>\n",
       "      <td>0</td>\n",
       "    </tr>\n",
       "    <tr>\n",
       "      <th>18</th>\n",
       "      <td>3476</td>\n",
       "      <td>modo</td>\n",
       "      <td>0</td>\n",
       "    </tr>\n",
       "    <tr>\n",
       "      <th>19</th>\n",
       "      <td>10423</td>\n",
       "      <td>take</td>\n",
       "      <td>1</td>\n",
       "    </tr>\n",
       "    <tr>\n",
       "      <th>20</th>\n",
       "      <td>11324</td>\n",
       "      <td>promise</td>\n",
       "      <td>1</td>\n",
       "    </tr>\n",
       "    <tr>\n",
       "      <th>21</th>\n",
       "      <td>8562</td>\n",
       "      <td>that</td>\n",
       "      <td>1</td>\n",
       "    </tr>\n",
       "    <tr>\n",
       "      <th>22</th>\n",
       "      <td>7835</td>\n",
       "      <td>and</td>\n",
       "      <td>1</td>\n",
       "    </tr>\n",
       "    <tr>\n",
       "      <th>23</th>\n",
       "      <td>5530</td>\n",
       "      <td>pvlovna</td>\n",
       "      <td>0</td>\n",
       "    </tr>\n",
       "    <tr>\n",
       "      <th>24</th>\n",
       "      <td>2251</td>\n",
       "      <td>suo</td>\n",
       "      <td>0</td>\n",
       "    </tr>\n",
       "    <tr>\n",
       "      <th>25</th>\n",
       "      <td>3056</td>\n",
       "      <td>una</td>\n",
       "      <td>0</td>\n",
       "    </tr>\n",
       "    <tr>\n",
       "      <th>26</th>\n",
       "      <td>1694</td>\n",
       "      <td>indossava</td>\n",
       "      <td>0</td>\n",
       "    </tr>\n",
       "    <tr>\n",
       "      <th>27</th>\n",
       "      <td>1019</td>\n",
       "      <td>principe</td>\n",
       "      <td>0</td>\n",
       "    </tr>\n",
       "    <tr>\n",
       "      <th>28</th>\n",
       "      <td>4948</td>\n",
       "      <td>disse</td>\n",
       "      <td>0</td>\n",
       "    </tr>\n",
       "    <tr>\n",
       "      <th>29</th>\n",
       "      <td>10065</td>\n",
       "      <td>gratefully</td>\n",
       "      <td>1</td>\n",
       "    </tr>\n",
       "    <tr>\n",
       "      <th>...</th>\n",
       "      <td>...</td>\n",
       "      <td>...</td>\n",
       "      <td>...</td>\n",
       "    </tr>\n",
       "    <tr>\n",
       "      <th>970</th>\n",
       "      <td>5892</td>\n",
       "      <td>uomo</td>\n",
       "      <td>0</td>\n",
       "    </tr>\n",
       "    <tr>\n",
       "      <th>971</th>\n",
       "      <td>2065</td>\n",
       "      <td>vorrei</td>\n",
       "      <td>0</td>\n",
       "    </tr>\n",
       "    <tr>\n",
       "      <th>972</th>\n",
       "      <td>9468</td>\n",
       "      <td>the</td>\n",
       "      <td>1</td>\n",
       "    </tr>\n",
       "    <tr>\n",
       "      <th>973</th>\n",
       "      <td>4069</td>\n",
       "      <td>dirgli</td>\n",
       "      <td>0</td>\n",
       "    </tr>\n",
       "    <tr>\n",
       "      <th>974</th>\n",
       "      <td>2682</td>\n",
       "      <td>desiderano</td>\n",
       "      <td>0</td>\n",
       "    </tr>\n",
       "    <tr>\n",
       "      <th>975</th>\n",
       "      <td>7910</td>\n",
       "      <td>grace</td>\n",
       "      <td>1</td>\n",
       "    </tr>\n",
       "    <tr>\n",
       "      <th>976</th>\n",
       "      <td>1676</td>\n",
       "      <td>gli</td>\n",
       "      <td>0</td>\n",
       "    </tr>\n",
       "    <tr>\n",
       "      <th>977</th>\n",
       "      <td>5032</td>\n",
       "      <td>parle</td>\n",
       "      <td>0</td>\n",
       "    </tr>\n",
       "    <tr>\n",
       "      <th>978</th>\n",
       "      <td>11</td>\n",
       "      <td>libro</td>\n",
       "      <td>0</td>\n",
       "    </tr>\n",
       "    <tr>\n",
       "      <th>979</th>\n",
       "      <td>3098</td>\n",
       "      <td>tutti</td>\n",
       "      <td>0</td>\n",
       "    </tr>\n",
       "    <tr>\n",
       "      <th>980</th>\n",
       "      <td>5293</td>\n",
       "      <td>che</td>\n",
       "      <td>0</td>\n",
       "    </tr>\n",
       "    <tr>\n",
       "      <th>981</th>\n",
       "      <td>9281</td>\n",
       "      <td>yes</td>\n",
       "      <td>1</td>\n",
       "    </tr>\n",
       "    <tr>\n",
       "      <th>982</th>\n",
       "      <td>2867</td>\n",
       "      <td>raccontate</td>\n",
       "      <td>0</td>\n",
       "    </tr>\n",
       "    <tr>\n",
       "      <th>983</th>\n",
       "      <td>2701</td>\n",
       "      <td>ininterrotto</td>\n",
       "      <td>0</td>\n",
       "    </tr>\n",
       "    <tr>\n",
       "      <th>984</th>\n",
       "      <td>617</td>\n",
       "      <td>nulla</td>\n",
       "      <td>0</td>\n",
       "    </tr>\n",
       "    <tr>\n",
       "      <th>985</th>\n",
       "      <td>748</td>\n",
       "      <td>che</td>\n",
       "      <td>0</td>\n",
       "    </tr>\n",
       "    <tr>\n",
       "      <th>986</th>\n",
       "      <td>4719</td>\n",
       "      <td>potete</td>\n",
       "      <td>0</td>\n",
       "    </tr>\n",
       "    <tr>\n",
       "      <th>987</th>\n",
       "      <td>10790</td>\n",
       "      <td>the</td>\n",
       "      <td>1</td>\n",
       "    </tr>\n",
       "    <tr>\n",
       "      <th>988</th>\n",
       "      <td>2489</td>\n",
       "      <td>allontanatasi</td>\n",
       "      <td>0</td>\n",
       "    </tr>\n",
       "    <tr>\n",
       "      <th>989</th>\n",
       "      <td>4011</td>\n",
       "      <td>volto</td>\n",
       "      <td>0</td>\n",
       "    </tr>\n",
       "    <tr>\n",
       "      <th>990</th>\n",
       "      <td>2258</td>\n",
       "      <td>quel</td>\n",
       "      <td>0</td>\n",
       "    </tr>\n",
       "    <tr>\n",
       "      <th>991</th>\n",
       "      <td>8100</td>\n",
       "      <td>cap</td>\n",
       "      <td>1</td>\n",
       "    </tr>\n",
       "    <tr>\n",
       "      <th>992</th>\n",
       "      <td>3780</td>\n",
       "      <td>comune</td>\n",
       "      <td>0</td>\n",
       "    </tr>\n",
       "    <tr>\n",
       "      <th>993</th>\n",
       "      <td>3982</td>\n",
       "      <td>salotto</td>\n",
       "      <td>0</td>\n",
       "    </tr>\n",
       "    <tr>\n",
       "      <th>994</th>\n",
       "      <td>9787</td>\n",
       "      <td>lit</td>\n",
       "      <td>1</td>\n",
       "    </tr>\n",
       "    <tr>\n",
       "      <th>995</th>\n",
       "      <td>8001</td>\n",
       "      <td>the</td>\n",
       "      <td>1</td>\n",
       "    </tr>\n",
       "    <tr>\n",
       "      <th>996</th>\n",
       "      <td>4722</td>\n",
       "      <td>raccomandazioni</td>\n",
       "      <td>0</td>\n",
       "    </tr>\n",
       "    <tr>\n",
       "      <th>997</th>\n",
       "      <td>6032</td>\n",
       "      <td>negli</td>\n",
       "      <td>0</td>\n",
       "    </tr>\n",
       "    <tr>\n",
       "      <th>998</th>\n",
       "      <td>3749</td>\n",
       "      <td>dallo</td>\n",
       "      <td>0</td>\n",
       "    </tr>\n",
       "    <tr>\n",
       "      <th>999</th>\n",
       "      <td>2317</td>\n",
       "      <td>voir</td>\n",
       "      <td>0</td>\n",
       "    </tr>\n",
       "  </tbody>\n",
       "</table>\n",
       "<p>1000 rows × 3 columns</p>\n",
       "</div>"
      ],
      "text/plain": [
       "     index             word  label\n",
       "0     4714          sorrise      0\n",
       "1     1518           meinen      0\n",
       "2     2834         qualcosa      0\n",
       "3     8896         spinning      1\n",
       "4    10118             mans      1\n",
       "5     8487             anna      1\n",
       "6     9724              she      1\n",
       "7     6998          refused      1\n",
       "8     9656              the      1\n",
       "9     6539          scherer      1\n",
       "10     146      personaggio      0\n",
       "11    7022       understood      1\n",
       "12    2408          persona      0\n",
       "13     836         aggiunse      0\n",
       "14    7581              did      1\n",
       "15    3778          riunire      0\n",
       "16   10902              had      1\n",
       "17    2086              far      0\n",
       "18    3476             modo      0\n",
       "19   10423             take      1\n",
       "20   11324          promise      1\n",
       "21    8562             that      1\n",
       "22    7835              and      1\n",
       "23    5530          pvlovna      0\n",
       "24    2251              suo      0\n",
       "25    3056              una      0\n",
       "26    1694        indossava      0\n",
       "27    1019         principe      0\n",
       "28    4948            disse      0\n",
       "29   10065       gratefully      1\n",
       "..     ...              ...    ...\n",
       "970   5892             uomo      0\n",
       "971   2065           vorrei      0\n",
       "972   9468              the      1\n",
       "973   4069           dirgli      0\n",
       "974   2682       desiderano      0\n",
       "975   7910            grace      1\n",
       "976   1676              gli      0\n",
       "977   5032            parle      0\n",
       "978     11            libro      0\n",
       "979   3098            tutti      0\n",
       "980   5293              che      0\n",
       "981   9281              yes      1\n",
       "982   2867       raccontate      0\n",
       "983   2701     ininterrotto      0\n",
       "984    617            nulla      0\n",
       "985    748              che      0\n",
       "986   4719           potete      0\n",
       "987  10790              the      1\n",
       "988   2489    allontanatasi      0\n",
       "989   4011            volto      0\n",
       "990   2258             quel      0\n",
       "991   8100              cap      1\n",
       "992   3780           comune      0\n",
       "993   3982          salotto      0\n",
       "994   9787              lit      1\n",
       "995   8001              the      1\n",
       "996   4722  raccomandazioni      0\n",
       "997   6032            negli      0\n",
       "998   3749            dallo      0\n",
       "999   2317             voir      0\n",
       "\n",
       "[1000 rows x 3 columns]"
      ]
     },
     "execution_count": 312,
     "metadata": {},
     "output_type": "execute_result"
    }
   ],
   "source": [
    "df_shuffled = df_shuffled.sample(1000) # возьмем и перемешаем только 1000 объектов из датасета\n",
    "df_shuffled = df_shuffled.reset_index()\n",
    "df_shuffled"
   ]
  },
  {
   "cell_type": "code",
   "execution_count": 313,
   "metadata": {},
   "outputs": [
    {
     "data": {
      "text/plain": [
       "1000"
      ]
     },
     "execution_count": 313,
     "metadata": {},
     "output_type": "execute_result"
    }
   ],
   "source": [
    "len(df_shuffled)"
   ]
  },
  {
   "cell_type": "code",
   "execution_count": 314,
   "metadata": {
    "collapsed": true
   },
   "outputs": [],
   "source": [
    "X_train, X_test, y_train, y_test = train_test_split(df_shuffled['index'], df_shuffled['label'],\n",
    "                                                    train_size=0.8, random_state = RND_SEED)"
   ]
  },
  {
   "cell_type": "code",
   "execution_count": 315,
   "metadata": {
    "collapsed": true
   },
   "outputs": [],
   "source": [
    "X_train = X_train.reset_index(drop=True)\n",
    "X_test = X_test.reset_index(drop=True)"
   ]
  },
  {
   "cell_type": "code",
   "execution_count": 316,
   "metadata": {},
   "outputs": [],
   "source": [
    "X_train = X_train.values.reshape(-1, 1)\n",
    "X_test = X_test.values.reshape(-1, 1)"
   ]
  },
  {
   "cell_type": "code",
   "execution_count": 317,
   "metadata": {},
   "outputs": [],
   "source": [
    "X_train = [item for sublist in X_train for item in sublist] # решаю проблему со списками\n",
    "X_test = [item for sublist in X_test for item in sublist]"
   ]
  },
  {
   "cell_type": "code",
   "execution_count": 318,
   "metadata": {},
   "outputs": [
    {
     "data": {
      "text/plain": [
       "[2707,\n",
       " 974,\n",
       " 3021,\n",
       " 1052,\n",
       " 8446,\n",
       " 1664,\n",
       " 2801,\n",
       " 2172,\n",
       " 2867,\n",
       " 8802,\n",
       " 9159,\n",
       " 2106,\n",
       " 1772,\n",
       " 7791,\n",
       " 7359,\n",
       " 10378,\n",
       " 824,\n",
       " 10742,\n",
       " 2629,\n",
       " 2108,\n",
       " 7381,\n",
       " 4885,\n",
       " 1984,\n",
       " 4278,\n",
       " 7723,\n",
       " 2289,\n",
       " 3748,\n",
       " 8949,\n",
       " 5489,\n",
       " 762,\n",
       " 318,\n",
       " 878,\n",
       " 7813,\n",
       " 10160,\n",
       " 4606,\n",
       " 9554,\n",
       " 9761,\n",
       " 1293,\n",
       " 7687,\n",
       " 10617,\n",
       " 7120,\n",
       " 1167,\n",
       " 9448,\n",
       " 6075,\n",
       " 4713,\n",
       " 10389,\n",
       " 6171,\n",
       " 7260,\n",
       " 4423,\n",
       " 1135,\n",
       " 5669,\n",
       " 4144,\n",
       " 509,\n",
       " 5576,\n",
       " 9429,\n",
       " 9844,\n",
       " 7882,\n",
       " 4186,\n",
       " 90,\n",
       " 6586,\n",
       " 6718,\n",
       " 7859,\n",
       " 9239,\n",
       " 2251,\n",
       " 7076,\n",
       " 5437,\n",
       " 2748,\n",
       " 3050,\n",
       " 7665,\n",
       " 9548,\n",
       " 7317,\n",
       " 8779,\n",
       " 3517,\n",
       " 6300,\n",
       " 295,\n",
       " 6468,\n",
       " 10244,\n",
       " 6239,\n",
       " 6942,\n",
       " 11263,\n",
       " 4335,\n",
       " 7263,\n",
       " 466,\n",
       " 11005,\n",
       " 10726,\n",
       " 4932,\n",
       " 8660,\n",
       " 5951,\n",
       " 10423,\n",
       " 3853,\n",
       " 3968,\n",
       " 6058,\n",
       " 10991,\n",
       " 2975,\n",
       " 1857,\n",
       " 4653,\n",
       " 4055,\n",
       " 1912,\n",
       " 10155,\n",
       " 4355,\n",
       " 10151,\n",
       " 8670,\n",
       " 9207,\n",
       " 4847,\n",
       " 5091,\n",
       " 2168,\n",
       " 10012,\n",
       " 10350,\n",
       " 6553,\n",
       " 6403,\n",
       " 8812,\n",
       " 3218,\n",
       " 3610,\n",
       " 444,\n",
       " 10374,\n",
       " 6133,\n",
       " 241,\n",
       " 10849,\n",
       " 10944,\n",
       " 7869,\n",
       " 5342,\n",
       " 1571,\n",
       " 8777,\n",
       " 3350,\n",
       " 5293,\n",
       " 3092,\n",
       " 1490,\n",
       " 3089,\n",
       " 1142,\n",
       " 6899,\n",
       " 4259,\n",
       " 6024,\n",
       " 4766,\n",
       " 8420,\n",
       " 9291,\n",
       " 7146,\n",
       " 10844,\n",
       " 7169,\n",
       " 7000,\n",
       " 10411,\n",
       " 8170,\n",
       " 1809,\n",
       " 10526,\n",
       " 6595,\n",
       " 299,\n",
       " 1907,\n",
       " 2,\n",
       " 7835,\n",
       " 4520,\n",
       " 9866,\n",
       " 6701,\n",
       " 9266,\n",
       " 4722,\n",
       " 10576,\n",
       " 10862,\n",
       " 9283,\n",
       " 830,\n",
       " 2806,\n",
       " 3866,\n",
       " 2037,\n",
       " 656,\n",
       " 2616,\n",
       " 1740,\n",
       " 733,\n",
       " 1557,\n",
       " 6307,\n",
       " 4589,\n",
       " 1889,\n",
       " 6002,\n",
       " 6856,\n",
       " 1878,\n",
       " 4961,\n",
       " 5571,\n",
       " 727,\n",
       " 8861,\n",
       " 3003,\n",
       " 6275,\n",
       " 11228,\n",
       " 10763,\n",
       " 22,\n",
       " 8382,\n",
       " 5416,\n",
       " 8988,\n",
       " 5541,\n",
       " 4395,\n",
       " 10965,\n",
       " 3624,\n",
       " 2174,\n",
       " 6476,\n",
       " 639,\n",
       " 2065,\n",
       " 6330,\n",
       " 3473,\n",
       " 4988,\n",
       " 3764,\n",
       " 6027,\n",
       " 8886,\n",
       " 8643,\n",
       " 4948,\n",
       " 6972]"
      ]
     },
     "execution_count": 318,
     "metadata": {},
     "output_type": "execute_result"
    }
   ],
   "source": [
    "X_test"
   ]
  },
  {
   "cell_type": "code",
   "execution_count": 319,
   "metadata": {},
   "outputs": [
    {
     "data": {
      "text/plain": [
       "'pensa'"
      ]
     },
     "execution_count": 319,
     "metadata": {},
     "output_type": "execute_result"
    }
   ],
   "source": [
    "df['word'][X_train[1]] # проверка"
   ]
  },
  {
   "cell_type": "markdown",
   "metadata": {},
   "source": [
    "### Расчет ядра (2 балла)\n",
    "\n",
    "Теперь напишем собственное ядро для классификации строк. Для сравнения строк будем использовать [расстояние Левенштейна](https://ru.wikipedia.org/wiki/Расстояние_Левенштейна). Реализацию этого расстояния можно получить одним из двух способов:\n",
    "* скопировать функцию wfi_levenshtein из файла [pylev.py](https://github.com/toastdriven/pylev/blob/master/pylev.py)\n",
    "* поставить пакет [editdistance](https://pypi.python.org/pypi/editdistance) (будет работать быстрее, чем предыдущая реализация, но могут возникнуть проблемы с установкой)\n",
    "\n",
    "Ядро для сравнения строк должно принимать максимальное значение, когда слова одинаковы, и минимальное, когда очень отличаются. Это противоположно свойствам расстояния Левенштейна: оно равно 0, когда слова одинаковы, и максимально, когда слова разные. Поэтому подставьте значение расстояния Левенштейна в какое-нибудь ядро, зависящее от расстояния между объектами (например, гауссовское).\n",
    "\n",
    "Функция, реализующая расчет ядра должна принимать две матрицы $U$ и $V$ с признаковым описанием объектов (во время обучения они обе относятся к обучающей выборке, а во время применения - одна матрица относится к обучающей выборке, а другая к контрольной).\n",
    "Функция должна возвращать матрицу значений ядра для всех объектов попарно: $G_{ij} = K(U_i, V_j)$. Здесь $U_i$ — i-ый объект выборки $U$, а $V_j$ — j-ый объект выборки $V$.\n",
    "\n",
    "Сделайте следующее:\n",
    "1. Напишите функцию *string_kernel(U, V)*, расчитывающую матрицу ядра $G_{ij}$\n",
    "2. Визуализируйте матрицу только для тренировочной выборки (функция plt.imshow()).\n"
   ]
  },
  {
   "cell_type": "code",
   "execution_count": 320,
   "metadata": {
    "collapsed": true
   },
   "outputs": [],
   "source": [
    "from editdistance import eval"
   ]
  },
  {
   "cell_type": "code",
   "execution_count": 321,
   "metadata": {},
   "outputs": [
    {
     "name": "stdout",
     "output_type": "stream",
     "text": [
      "<class 'pandas.core.frame.DataFrame'>\n",
      "RangeIndex: 1000 entries, 0 to 999\n",
      "Data columns (total 3 columns):\n",
      "index    1000 non-null int64\n",
      "word     1000 non-null object\n",
      "label    1000 non-null int64\n",
      "dtypes: int64(2), object(1)\n",
      "memory usage: 23.5+ KB\n"
     ]
    }
   ],
   "source": [
    "df_shuffled.info()"
   ]
  },
  {
   "cell_type": "code",
   "execution_count": 322,
   "metadata": {
    "collapsed": true
   },
   "outputs": [],
   "source": [
    "def string_kernel(U, V):\n",
    "    matrix = np.zeros((len(U), len(V))) # нулевая матрица\n",
    "    for i in range(len(U)):\n",
    "        for j in range(len(V)):\n",
    "            distance = eval(df['word'][U[i]], df['word'][V[j]]) # замеряем расстояние между словами\n",
    "            matrix[i, j] = np.exp(-np.linalg.norm(distance)**2) # преобразованное расстояние добавляем в матрицу\n",
    "    return matrix "
   ]
  },
  {
   "cell_type": "code",
   "execution_count": 323,
   "metadata": {},
   "outputs": [
    {
     "data": {
      "text/plain": [
       "array([[  1.00000000e+00,   1.12535175e-07,   1.38879439e-11, ...,\n",
       "          2.31952283e-16,   2.31952283e-16,   1.38879439e-11],\n",
       "       [  1.12535175e-07,   1.00000000e+00,   1.23409804e-04, ...,\n",
       "          1.38879439e-11,   1.38879439e-11,   1.12535175e-07],\n",
       "       [  1.38879439e-11,   1.23409804e-04,   1.00000000e+00, ...,\n",
       "          1.12535175e-07,   1.23409804e-04,   1.23409804e-04],\n",
       "       ..., \n",
       "       [  2.31952283e-16,   1.38879439e-11,   1.12535175e-07, ...,\n",
       "          1.00000000e+00,   1.38879439e-11,   1.38879439e-11],\n",
       "       [  2.31952283e-16,   1.38879439e-11,   1.23409804e-04, ...,\n",
       "          1.38879439e-11,   1.00000000e+00,   1.23409804e-04],\n",
       "       [  1.38879439e-11,   1.12535175e-07,   1.23409804e-04, ...,\n",
       "          1.38879439e-11,   1.23409804e-04,   1.00000000e+00]])"
      ]
     },
     "execution_count": 323,
     "metadata": {},
     "output_type": "execute_result"
    }
   ],
   "source": [
    "string_kernel(X_train, X_train)"
   ]
  },
  {
   "cell_type": "code",
   "execution_count": 369,
   "metadata": {},
   "outputs": [
    {
     "data": {
      "text/plain": [
       "<matplotlib.colorbar.Colorbar at 0x126d814a8>"
      ]
     },
     "execution_count": 369,
     "metadata": {},
     "output_type": "execute_result"
    },
    {
     "data": {
      "image/png": "[encoded data removed]",
      "text/plain": [
       "<matplotlib.figure.Figure at 0x127161860>"
      ]
     },
     "metadata": {},
     "output_type": "display_data"
    }
   ],
   "source": [
    "fig, ax = plt.subplots(figsize=(15, 8))\n",
    "vis = plt.imshow(string_kernel(X_train, X_train), cmap='summer')\n",
    "fig.colorbar(vis)"
   ]
  },
  {
   "cell_type": "markdown",
   "metadata": {},
   "source": [
    "*На графике получаем матрицу, на главной диагонали которой стоят расстояния между словом и таким же словом (они равны 1, что является максимумом), что объясняет желтый цвет диагональной прямой.*"
   ]
  },
  {
   "cell_type": "markdown",
   "metadata": {},
   "source": [
    "### Оценка качества (1 балл)\n",
    "\n",
    "Обучите метод опорных векторов с различными значениями параметра штрафа $C$.<br/>\n",
    "Для каждого значения выведите accuracy на обучащей и контрольной выборке.\n",
    "\n",
    "Постарайтесь достичь качества в 70% на тестовой выборке. Для улучшения качества можно увеличить размер тренировочной выборки. Но тогда обучение будет происходить дольше."
   ]
  },
  {
   "cell_type": "code",
   "execution_count": 329,
   "metadata": {},
   "outputs": [
    {
     "name": "stdout",
     "output_type": "stream",
     "text": [
      "C = 1\n",
      "Train accuracy score = 0.99625\n",
      "Test accuracy_score = 0.83\n",
      "---------------------\n",
      "C = 11\n",
      "Train accuracy score = 0.99625\n",
      "Test accuracy_score = 0.835\n",
      "---------------------\n",
      "C = 21\n",
      "Train accuracy score = 0.99625\n",
      "Test accuracy_score = 0.835\n",
      "---------------------\n",
      "C = 31\n",
      "Train accuracy score = 0.99625\n",
      "Test accuracy_score = 0.835\n",
      "---------------------\n",
      "C = 41\n",
      "Train accuracy score = 0.99625\n",
      "Test accuracy_score = 0.835\n",
      "---------------------\n",
      "C = 51\n",
      "Train accuracy score = 0.99625\n",
      "Test accuracy_score = 0.835\n",
      "---------------------\n",
      "C = 61\n",
      "Train accuracy score = 0.99625\n",
      "Test accuracy_score = 0.835\n",
      "---------------------\n",
      "C = 71\n",
      "Train accuracy score = 0.99625\n",
      "Test accuracy_score = 0.835\n",
      "---------------------\n",
      "C = 81\n",
      "Train accuracy score = 0.99625\n",
      "Test accuracy_score = 0.835\n",
      "---------------------\n",
      "C = 91\n",
      "Train accuracy score = 0.99625\n",
      "Test accuracy_score = 0.835\n",
      "---------------------\n"
     ]
    }
   ],
   "source": [
    "Cs = np.arange(1, 100, 10)\n",
    "\n",
    "for c_value in Cs: # пробегаемся по списку значений С\n",
    "    svc = SVC(kernel='precomputed', C=c_value)\n",
    "    svc.fit(string_kernel(X_train, X_train), y_train)\n",
    "    y_predictions_train = svc.predict(string_kernel(X_train, X_train)) # предсказания y обучающей выборки\n",
    "    y_predictions_test = svc.predict(string_kernel(X_test, X_train)) # предсказания y тестовой выборки\n",
    "    print('C =', c_value)\n",
    "    print('Train accuracy score =', accuracy_score(y_predictions_train, y_train))\n",
    "    print('Test accuracy_score =', accuracy_score(y_predictions_test, y_test))\n",
    "    print('---------------------')"
   ]
  },
  {
   "cell_type": "markdown",
   "metadata": {},
   "source": [
    "*В итоге мы получаем самое высокое качество 0.835 на тестовой выборке, которое дают С от 11 до 91 (можно предположить, что С из этого отрезка, не использованные при обучении, дадут такое же качество).*"
   ]
  }
 ],
 "metadata": {
  "anaconda-cloud": {},
  "kernelspec": {
   "display_name": "Python 3",
   "language": "python",
   "name": "python3"
  },
  "language_info": {
   "codemirror_mode": {
    "name": "ipython",
    "version": 3
   },
   "file_extension": ".py",
   "mimetype": "text/x-python",
   "name": "python",
   "nbconvert_exporter": "python",
   "pygments_lexer": "ipython3",
   "version": "3.6.1"
  },
  "nav_menu": {},
  "toc": {
   "colors": {
    "hover_highlight": "#DAA520",
    "navigate_num": "#000000",
    "navigate_text": "#333333",
    "running_highlight": "#FF0000",
    "selected_highlight": "#FFD700",
    "sidebar_border": "#EEEEEE",
    "wrapper_background": "#FFFFFF"
   },
   "moveMenuLeft": true,
   "nav_menu": {
    "height": "217px",
    "width": "253px"
   },
   "navigate_menu": true,
   "number_sections": false,
   "sideBar": true,
   "threshold": 4,
   "toc_cell": false,
   "toc_section_display": "block",
   "toc_window_display": true,
   "widenNotebook": false
  }
 },
 "nbformat": 4,
 "nbformat_minor": 1
}
