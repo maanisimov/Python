{
 "cells": [
  {
   "cell_type": "code",
   "execution_count": 1,
   "metadata": {},
   "outputs": [
    {
     "name": "stderr",
     "output_type": "stream",
     "text": [
      "/Users/maxim_anisimov/anaconda/lib/python3.6/site-packages/sklearn/ensemble/weight_boosting.py:29: DeprecationWarning: numpy.core.umath_tests is an internal NumPy module and should not be imported. It will be removed in a future NumPy release.\n",
      "  from numpy.core.umath_tests import inner1d\n"
     ]
    }
   ],
   "source": [
    "import numpy as np\n",
    "import pandas as pd\n",
    "import random\n",
    "\n",
    "from sklearn.linear_model import LogisticRegression\n",
    "from sklearn.model_selection import train_test_split\n",
    "from sklearn.metrics import roc_auc_score, make_scorer\n",
    "import matplotlib.pyplot as plt\n",
    "%matplotlib inline\n",
    "\n",
    "from sklearn.neighbors import KNeighborsClassifier\n",
    "from sklearn.naive_bayes import GaussianNB\n",
    "from sklearn.ensemble import RandomForestClassifier\n",
    "import xgboost as xgb\n",
    "import numpy as np\n",
    "from catboost import CatBoostClassifier\n",
    "from sklearn.model_selection import GridSearchCV\n",
    "from sklearn.preprocessing import StandardScaler\n",
    "#import lightgbm \n",
    "\n",
    "import datetime\n",
    "import time"
   ]
  },
  {
   "cell_type": "code",
   "execution_count": 2,
   "metadata": {
    "collapsed": true
   },
   "outputs": [],
   "source": [
    "random.seed(30)"
   ]
  },
  {
   "cell_type": "code",
   "execution_count": 476,
   "metadata": {
    "collapsed": true
   },
   "outputs": [],
   "source": [
    "train = pd.read_csv('train.csv')\n",
    "test = pd.read_csv('test.csv')"
   ]
  },
  {
   "cell_type": "code",
   "execution_count": 477,
   "metadata": {
    "collapsed": true
   },
   "outputs": [],
   "source": [
    "train['due'] = pd.to_datetime(train['due'])\n",
    "test['due'] = pd.to_datetime(test['due'])"
   ]
  },
  {
   "cell_type": "markdown",
   "metadata": {},
   "source": [
    "## Feature Engineering"
   ]
  },
  {
   "cell_type": "code",
   "execution_count": 478,
   "metadata": {},
   "outputs": [
    {
     "data": {
      "text/plain": [
       "array([2014])"
      ]
     },
     "execution_count": 478,
     "metadata": {},
     "output_type": "execute_result"
    }
   ],
   "source": [
    "train['due'].dt.year.unique() # year does not matter"
   ]
  },
  {
   "cell_type": "code",
   "execution_count": 479,
   "metadata": {},
   "outputs": [
    {
     "data": {
      "text/plain": [
       "array([2014])"
      ]
     },
     "execution_count": 479,
     "metadata": {},
     "output_type": "execute_result"
    }
   ],
   "source": [
    "test['due'].dt.year.unique()"
   ]
  },
  {
   "cell_type": "code",
   "execution_count": 480,
   "metadata": {
    "collapsed": true
   },
   "outputs": [],
   "source": [
    "train['month'] = train['due'].dt.month\n",
    "test['month'] = test['due'].dt.month\n",
    "\n",
    "train['weekday'] = train['due'].dt.weekday # The day of the week with Monday=0, Sunday=6\n",
    "test['weekday'] = test['due'].dt.weekday\n",
    "\n",
    "train['day'] = train['due'].dt.day # The day of the week with Monday=0, Sunday=6\n",
    "test['day'] = test['due'].dt.day\n",
    "\n",
    "train['is year end'] = train['due'].dt.is_year_end # Ney Year's Eve\n",
    "test['is year end'] = test['due'].dt.is_year_end\n",
    "\n",
    "train['hour'] = train['due'].dt.hour\n",
    "test['hour'] = test['due'].dt.hour\n",
    "\n",
    "train['minute'] = train['due'].dt.minute\n",
    "test['minute'] = test['due'].dt.minute"
   ]
  },
  {
   "cell_type": "code",
   "execution_count": 484,
   "metadata": {
    "collapsed": true
   },
   "outputs": [],
   "source": [
    "train['f_class'] = train['f_class'].fillna('NaN')\n",
    "train['s_class'] = train['s_class'].fillna('NaN')\n",
    "train['t_class'] = train['t_class'].fillna('NaN')\n",
    "\n",
    "test['f_class'] = test['f_class'].fillna('NaN')\n",
    "test['s_class'] = test['s_class'].fillna('NaN')\n",
    "test['t_class'] = test['t_class'].fillna('NaN')"
   ]
  },
  {
   "cell_type": "code",
   "execution_count": 488,
   "metadata": {
    "collapsed": true
   },
   "outputs": [],
   "source": [
    "train_dummies = pd.get_dummies(train, columns=['f_class', 's_class', 't_class'])\n",
    "test_dummies = pd.get_dummies(test, columns=['f_class', 's_class', 't_class'])"
   ]
  },
  {
   "cell_type": "code",
   "execution_count": 489,
   "metadata": {},
   "outputs": [
    {
     "data": {
      "text/html": [
       "<div>\n",
       "<style scoped>\n",
       "    .dataframe tbody tr th:only-of-type {\n",
       "        vertical-align: middle;\n",
       "    }\n",
       "\n",
       "    .dataframe tbody tr th {\n",
       "        vertical-align: top;\n",
       "    }\n",
       "\n",
       "    .dataframe thead th {\n",
       "        text-align: right;\n",
       "    }\n",
       "</style>\n",
       "<table border=\"1\" class=\"dataframe\">\n",
       "  <thead>\n",
       "    <tr style=\"text-align: right;\">\n",
       "      <th></th>\n",
       "      <th>cancel_time</th>\n",
       "      <th>driver_found</th>\n",
       "      <th>due</th>\n",
       "      <th>f_class</th>\n",
       "      <th>lat</th>\n",
       "      <th>lon</th>\n",
       "      <th>s_class</th>\n",
       "      <th>t_class</th>\n",
       "      <th>burned</th>\n",
       "      <th>month</th>\n",
       "      <th>weekday</th>\n",
       "      <th>day</th>\n",
       "      <th>is year end</th>\n",
       "      <th>hour</th>\n",
       "      <th>minute</th>\n",
       "    </tr>\n",
       "  </thead>\n",
       "  <tbody>\n",
       "    <tr>\n",
       "      <th>0</th>\n",
       "      <td>55</td>\n",
       "      <td>False</td>\n",
       "      <td>2014-01-01 00:09:32</td>\n",
       "      <td>econom</td>\n",
       "      <td>55.750130</td>\n",
       "      <td>37.823242</td>\n",
       "      <td>NaN</td>\n",
       "      <td>NaN</td>\n",
       "      <td>True</td>\n",
       "      <td>1</td>\n",
       "      <td>2</td>\n",
       "      <td>1</td>\n",
       "      <td>False</td>\n",
       "      <td>0</td>\n",
       "      <td>9</td>\n",
       "    </tr>\n",
       "    <tr>\n",
       "      <th>1</th>\n",
       "      <td>-1</td>\n",
       "      <td>True</td>\n",
       "      <td>2014-01-01 00:09:32</td>\n",
       "      <td>econom</td>\n",
       "      <td>55.750130</td>\n",
       "      <td>37.823242</td>\n",
       "      <td>NaN</td>\n",
       "      <td>NaN</td>\n",
       "      <td>False</td>\n",
       "      <td>1</td>\n",
       "      <td>2</td>\n",
       "      <td>1</td>\n",
       "      <td>False</td>\n",
       "      <td>0</td>\n",
       "      <td>9</td>\n",
       "    </tr>\n",
       "    <tr>\n",
       "      <th>2</th>\n",
       "      <td>-1</td>\n",
       "      <td>True</td>\n",
       "      <td>2014-01-01 00:10:00</td>\n",
       "      <td>econom</td>\n",
       "      <td>55.651582</td>\n",
       "      <td>37.340891</td>\n",
       "      <td>NaN</td>\n",
       "      <td>NaN</td>\n",
       "      <td>False</td>\n",
       "      <td>1</td>\n",
       "      <td>2</td>\n",
       "      <td>1</td>\n",
       "      <td>False</td>\n",
       "      <td>0</td>\n",
       "      <td>10</td>\n",
       "    </tr>\n",
       "    <tr>\n",
       "      <th>3</th>\n",
       "      <td>-1</td>\n",
       "      <td>True</td>\n",
       "      <td>2014-01-01 00:10:00</td>\n",
       "      <td>econom</td>\n",
       "      <td>55.633404</td>\n",
       "      <td>37.797595</td>\n",
       "      <td>NaN</td>\n",
       "      <td>NaN</td>\n",
       "      <td>False</td>\n",
       "      <td>1</td>\n",
       "      <td>2</td>\n",
       "      <td>1</td>\n",
       "      <td>False</td>\n",
       "      <td>0</td>\n",
       "      <td>10</td>\n",
       "    </tr>\n",
       "    <tr>\n",
       "      <th>4</th>\n",
       "      <td>-1</td>\n",
       "      <td>True</td>\n",
       "      <td>2014-01-01 00:10:00</td>\n",
       "      <td>econom</td>\n",
       "      <td>55.770330</td>\n",
       "      <td>37.519917</td>\n",
       "      <td>NaN</td>\n",
       "      <td>NaN</td>\n",
       "      <td>False</td>\n",
       "      <td>1</td>\n",
       "      <td>2</td>\n",
       "      <td>1</td>\n",
       "      <td>False</td>\n",
       "      <td>0</td>\n",
       "      <td>10</td>\n",
       "    </tr>\n",
       "  </tbody>\n",
       "</table>\n",
       "</div>"
      ],
      "text/plain": [
       "   cancel_time  driver_found                 due f_class        lat  \\\n",
       "0           55         False 2014-01-01 00:09:32  econom  55.750130   \n",
       "1           -1          True 2014-01-01 00:09:32  econom  55.750130   \n",
       "2           -1          True 2014-01-01 00:10:00  econom  55.651582   \n",
       "3           -1          True 2014-01-01 00:10:00  econom  55.633404   \n",
       "4           -1          True 2014-01-01 00:10:00  econom  55.770330   \n",
       "\n",
       "         lon s_class t_class  burned  month  weekday  day  is year end  hour  \\\n",
       "0  37.823242     NaN     NaN    True      1        2    1        False     0   \n",
       "1  37.823242     NaN     NaN   False      1        2    1        False     0   \n",
       "2  37.340891     NaN     NaN   False      1        2    1        False     0   \n",
       "3  37.797595     NaN     NaN   False      1        2    1        False     0   \n",
       "4  37.519917     NaN     NaN   False      1        2    1        False     0   \n",
       "\n",
       "   minute  \n",
       "0       9  \n",
       "1       9  \n",
       "2      10  \n",
       "3      10  \n",
       "4      10  "
      ]
     },
     "execution_count": 489,
     "metadata": {},
     "output_type": "execute_result"
    }
   ],
   "source": [
    "train.head()"
   ]
  },
  {
   "cell_type": "code",
   "execution_count": 490,
   "metadata": {
    "collapsed": true
   },
   "outputs": [],
   "source": [
    "train = train.drop(['cancel_time', 'driver_found'], axis=1) # no such features in test"
   ]
  },
  {
   "cell_type": "code",
   "execution_count": 491,
   "metadata": {
    "collapsed": true
   },
   "outputs": [],
   "source": [
    "train_dummies = train_dummies.drop(['cancel_time', 'driver_found'], axis=1)"
   ]
  },
  {
   "cell_type": "code",
   "execution_count": 542,
   "metadata": {},
   "outputs": [
    {
     "data": {
      "text/html": [
       "<div>\n",
       "<style scoped>\n",
       "    .dataframe tbody tr th:only-of-type {\n",
       "        vertical-align: middle;\n",
       "    }\n",
       "\n",
       "    .dataframe tbody tr th {\n",
       "        vertical-align: top;\n",
       "    }\n",
       "\n",
       "    .dataframe thead th {\n",
       "        text-align: right;\n",
       "    }\n",
       "</style>\n",
       "<table border=\"1\" class=\"dataframe\">\n",
       "  <thead>\n",
       "    <tr style=\"text-align: right;\">\n",
       "      <th></th>\n",
       "      <th>burned</th>\n",
       "      <th>day</th>\n",
       "      <th>due</th>\n",
       "      <th>f_class_NaN</th>\n",
       "      <th>f_class_business</th>\n",
       "      <th>f_class_econom</th>\n",
       "      <th>f_class_vip</th>\n",
       "      <th>hour</th>\n",
       "      <th>is year end</th>\n",
       "      <th>lat</th>\n",
       "      <th>...</th>\n",
       "      <th>month</th>\n",
       "      <th>s_class_NaN</th>\n",
       "      <th>s_class_business</th>\n",
       "      <th>s_class_econom</th>\n",
       "      <th>s_class_vip</th>\n",
       "      <th>t_class_NaN</th>\n",
       "      <th>t_class_business</th>\n",
       "      <th>t_class_econom</th>\n",
       "      <th>t_class_vip</th>\n",
       "      <th>weekday</th>\n",
       "    </tr>\n",
       "  </thead>\n",
       "  <tbody>\n",
       "    <tr>\n",
       "      <th>1793285</th>\n",
       "      <td>NaN</td>\n",
       "      <td>31</td>\n",
       "      <td>2014-03-31 23:55:00.000</td>\n",
       "      <td>0</td>\n",
       "      <td>0</td>\n",
       "      <td>1</td>\n",
       "      <td>0</td>\n",
       "      <td>23</td>\n",
       "      <td>False</td>\n",
       "      <td>55.736944</td>\n",
       "      <td>...</td>\n",
       "      <td>3</td>\n",
       "      <td>1</td>\n",
       "      <td>0</td>\n",
       "      <td>0</td>\n",
       "      <td>0</td>\n",
       "      <td>1</td>\n",
       "      <td>0</td>\n",
       "      <td>0</td>\n",
       "      <td>0</td>\n",
       "      <td>0</td>\n",
       "    </tr>\n",
       "    <tr>\n",
       "      <th>1793290</th>\n",
       "      <td>NaN</td>\n",
       "      <td>31</td>\n",
       "      <td>2014-03-31 23:55:00.000</td>\n",
       "      <td>0</td>\n",
       "      <td>0</td>\n",
       "      <td>1</td>\n",
       "      <td>0</td>\n",
       "      <td>23</td>\n",
       "      <td>False</td>\n",
       "      <td>55.741470</td>\n",
       "      <td>...</td>\n",
       "      <td>3</td>\n",
       "      <td>1</td>\n",
       "      <td>0</td>\n",
       "      <td>0</td>\n",
       "      <td>0</td>\n",
       "      <td>1</td>\n",
       "      <td>0</td>\n",
       "      <td>0</td>\n",
       "      <td>0</td>\n",
       "      <td>0</td>\n",
       "    </tr>\n",
       "    <tr>\n",
       "      <th>1793299</th>\n",
       "      <td>NaN</td>\n",
       "      <td>31</td>\n",
       "      <td>2014-03-31 23:55:00.000</td>\n",
       "      <td>0</td>\n",
       "      <td>0</td>\n",
       "      <td>1</td>\n",
       "      <td>0</td>\n",
       "      <td>23</td>\n",
       "      <td>False</td>\n",
       "      <td>55.682874</td>\n",
       "      <td>...</td>\n",
       "      <td>3</td>\n",
       "      <td>1</td>\n",
       "      <td>0</td>\n",
       "      <td>0</td>\n",
       "      <td>0</td>\n",
       "      <td>1</td>\n",
       "      <td>0</td>\n",
       "      <td>0</td>\n",
       "      <td>0</td>\n",
       "      <td>0</td>\n",
       "    </tr>\n",
       "    <tr>\n",
       "      <th>1793294</th>\n",
       "      <td>NaN</td>\n",
       "      <td>31</td>\n",
       "      <td>2014-03-31 23:55:00.201</td>\n",
       "      <td>0</td>\n",
       "      <td>0</td>\n",
       "      <td>1</td>\n",
       "      <td>0</td>\n",
       "      <td>23</td>\n",
       "      <td>False</td>\n",
       "      <td>55.603690</td>\n",
       "      <td>...</td>\n",
       "      <td>3</td>\n",
       "      <td>0</td>\n",
       "      <td>1</td>\n",
       "      <td>0</td>\n",
       "      <td>0</td>\n",
       "      <td>1</td>\n",
       "      <td>0</td>\n",
       "      <td>0</td>\n",
       "      <td>0</td>\n",
       "      <td>0</td>\n",
       "    </tr>\n",
       "    <tr>\n",
       "      <th>1793288</th>\n",
       "      <td>NaN</td>\n",
       "      <td>31</td>\n",
       "      <td>2014-03-31 23:55:00.464</td>\n",
       "      <td>0</td>\n",
       "      <td>0</td>\n",
       "      <td>1</td>\n",
       "      <td>0</td>\n",
       "      <td>23</td>\n",
       "      <td>False</td>\n",
       "      <td>55.620941</td>\n",
       "      <td>...</td>\n",
       "      <td>3</td>\n",
       "      <td>0</td>\n",
       "      <td>1</td>\n",
       "      <td>0</td>\n",
       "      <td>0</td>\n",
       "      <td>1</td>\n",
       "      <td>0</td>\n",
       "      <td>0</td>\n",
       "      <td>0</td>\n",
       "      <td>0</td>\n",
       "    </tr>\n",
       "  </tbody>\n",
       "</table>\n",
       "<p>5 rows × 22 columns</p>\n",
       "</div>"
      ],
      "text/plain": [
       "        burned  day                     due  f_class_NaN  f_class_business  \\\n",
       "1793285    NaN   31 2014-03-31 23:55:00.000            0                 0   \n",
       "1793290    NaN   31 2014-03-31 23:55:00.000            0                 0   \n",
       "1793299    NaN   31 2014-03-31 23:55:00.000            0                 0   \n",
       "1793294    NaN   31 2014-03-31 23:55:00.201            0                 0   \n",
       "1793288    NaN   31 2014-03-31 23:55:00.464            0                 0   \n",
       "\n",
       "         f_class_econom  f_class_vip  hour  is year end        lat   ...     \\\n",
       "1793285               1            0    23        False  55.736944   ...      \n",
       "1793290               1            0    23        False  55.741470   ...      \n",
       "1793299               1            0    23        False  55.682874   ...      \n",
       "1793294               1            0    23        False  55.603690   ...      \n",
       "1793288               1            0    23        False  55.620941   ...      \n",
       "\n",
       "         month  s_class_NaN  s_class_business  s_class_econom  s_class_vip  \\\n",
       "1793285      3            1                 0               0            0   \n",
       "1793290      3            1                 0               0            0   \n",
       "1793299      3            1                 0               0            0   \n",
       "1793294      3            0                 1               0            0   \n",
       "1793288      3            0                 1               0            0   \n",
       "\n",
       "         t_class_NaN  t_class_business  t_class_econom  t_class_vip  weekday  \n",
       "1793285            1                 0               0            0        0  \n",
       "1793290            1                 0               0            0        0  \n",
       "1793299            1                 0               0            0        0  \n",
       "1793294            1                 0               0            0        0  \n",
       "1793288            1                 0               0            0        0  \n",
       "\n",
       "[5 rows x 22 columns]"
      ]
     },
     "execution_count": 542,
     "metadata": {},
     "output_type": "execute_result"
    }
   ],
   "source": [
    "all_data = pd.concat([train_dummies, test_dummies])\n",
    "\n",
    "all_data.tail()"
   ]
  },
  {
   "cell_type": "code",
   "execution_count": 544,
   "metadata": {
    "collapsed": true
   },
   "outputs": [],
   "source": [
    "all_data['time_suspicious'] = (all_data['due'] == all_data['due'].shift(5)) # подсказка Артема\n",
    "all_data['group_suspicious'] = (all_data['time_suspicious'] == all_data['time_suspicious'].shift(1)) # подск. Артема\n",
    "all_data = all_data[6:]"
   ]
  },
  {
   "cell_type": "code",
   "execution_count": 547,
   "metadata": {
    "collapsed": true
   },
   "outputs": [],
   "source": [
    "all_data['duplicated'] = all_data.duplicated(['due', 'lon', 'lat']) # подсказка Артема"
   ]
  },
  {
   "cell_type": "markdown",
   "metadata": {},
   "source": [
    "## Learning"
   ]
  },
  {
   "cell_type": "code",
   "execution_count": 548,
   "metadata": {
    "collapsed": true
   },
   "outputs": [],
   "source": [
    "train_delta = all_data[(all_data.burned.isna() == False)]\n",
    "test_delta = all_data[all_data.burned.isna() == True].drop('burned' ,axis=1)"
   ]
  },
  {
   "cell_type": "code",
   "execution_count": 551,
   "metadata": {},
   "outputs": [
    {
     "data": {
      "text/plain": [
       "True"
      ]
     },
     "execution_count": 551,
     "metadata": {},
     "output_type": "execute_result"
    }
   ],
   "source": [
    "len(train_delta) + len(test_delta) == len(all_data)"
   ]
  },
  {
   "cell_type": "code",
   "execution_count": 553,
   "metadata": {},
   "outputs": [
    {
     "data": {
      "text/plain": [
       "0.6409867069143632"
      ]
     },
     "execution_count": 553,
     "metadata": {},
     "output_type": "execute_result"
    }
   ],
   "source": [
    "#### SOLUTION\n",
    "\n",
    "features_delta = train_delta.columns.drop(['due', 'burned', 'is year end']).tolist()\n",
    "df_delta = np.array(train_delta[features_delta])\n",
    "\n",
    "train_size = 0.7\n",
    "train_X = np.array(train_delta[:int(len(train_delta)*train_size)][features_delta])\n",
    "train_y = train_delta[:int(len(train_delta)*train_size)].burned.values\n",
    "\n",
    "test_X = np.array(train_delta[int(len(train_delta)*train_size):][features_delta])\n",
    "test_y = train_delta[int(len(train_delta)*train_size):].burned.values\n",
    "\n",
    "# to deal with imbalanced sample\n",
    "negative_to_positive_ratio = len(train_y[train_y == False]) / len(train_y[train_y == True])\n",
    "\n",
    "XGB_delta = xgb.XGBClassifier(n_estimators=200, max_depth=5,\n",
    "                             scale_pos_weight=negative_to_positive_ratio, \n",
    "                             n_jobs=-1, random_state=26)\n",
    "\n",
    "XBG_delta_pred = XGB_delta.fit(train_X, train_y).predict_proba(test_X)[:, 1]\n",
    "\n",
    "roc_auc_score(test_y.astype(int), XBG_delta_pred) "
   ]
  },
  {
   "cell_type": "code",
   "execution_count": 564,
   "metadata": {},
   "outputs": [
    {
     "name": "stderr",
     "output_type": "stream",
     "text": [
      "/Users/maxim_anisimov/anaconda/lib/python3.6/site-packages/pandas/core/generic.py:3643: SettingWithCopyWarning: \n",
      "A value is trying to be set on a copy of a slice from a DataFrame.\n",
      "Try using .loc[row_indexer,col_indexer] = value instead\n",
      "\n",
      "See the caveats in the documentation: http://pandas.pydata.org/pandas-docs/stable/indexing.html#indexing-view-versus-copy\n",
      "  self[name] = value\n"
     ]
    },
    {
     "data": {
      "text/plain": [
       "0.6423115526903135"
      ]
     },
     "execution_count": 564,
     "metadata": {},
     "output_type": "execute_result"
    }
   ],
   "source": [
    "# did not help\n",
    "train_delta.day = np.sin(np.pi*train_delta.day/15)\n",
    "train_delta.month = np.sin(np.pi*train_delta.month/6)\n",
    "train_delta.weekday = np.sin(np.pi*train_delta.weekday/3.5)\n",
    "train_delta.hour = np.sin(np.pi*train_delta.hour/12)\n",
    "train_delta.minute = np.sin(np.pi*train_delta.minute/30)\n",
    "\n",
    "test_delta.day = np.sin(np.pi*test_delta.day/15)\n",
    "test_delta.month = np.sin(np.pi*test_delta.month/6)\n",
    "test_delta.weekday = np.sin(np.pi*test_delta.weekday/3.5)\n",
    "test_delta.hour = np.sin(np.pi*test_delta.hour/12)\n",
    "test_delta.minute = np.sin(np.pi*test_delta.minute/30)\n",
    "\n",
    "features_delta = train_delta.columns.drop(['due', 'burned', 'is year end']).tolist()\n",
    "df_delta = np.array(train_delta[features_delta])\n",
    "\n",
    "train_size = 0.7\n",
    "train_X = np.array(train_delta[:int(len(train_delta)*train_size)][features_delta])\n",
    "train_y = train_delta[:int(len(train_delta)*train_size)].burned.values\n",
    "\n",
    "test_X = np.array(train_delta[int(len(train_delta)*train_size):][features_delta])\n",
    "test_y = train_delta[int(len(train_delta)*train_size):].burned.values\n",
    "\n",
    "negative_to_positive_ratio = len(train_y[train_y == False]) / len(train_y[train_y == True])\n",
    "\n",
    "XGB_delta = xgb.XGBClassifier(n_estimators=400, max_depth=5,\n",
    "                             scale_pos_weight=negative_to_positive_ratio, \n",
    "                             n_jobs=-1, random_state=26)\n",
    "\n",
    "XBG_delta_pred = XGB_delta.fit(train_X, train_y).predict_proba(test_X)[:, 1]\n",
    "\n",
    "roc_auc_score(test_y.astype(int), XBG_delta_pred) "
   ]
  },
  {
   "cell_type": "code",
   "execution_count": 567,
   "metadata": {},
   "outputs": [
    {
     "data": {
      "text/plain": [
       "{'day': 0.082671605,\n",
       " 'duplicated': 0.014999118,\n",
       " 'f_class_NaN': 0.008999471,\n",
       " 'f_class_business': 0.0074113286,\n",
       " 'f_class_econom': 0.006705488,\n",
       " 'f_class_vip': 0.005117346,\n",
       " 'group_suspicious': 0.004235045,\n",
       " 'hour': 0.08134816,\n",
       " 'lat': 0.29327688,\n",
       " 'lon': 0.29230633,\n",
       " 'minute': 0.062025763,\n",
       " 'month': 0.026821952,\n",
       " 's_class_NaN': 0.012793365,\n",
       " 's_class_business': 0.0069701783,\n",
       " 's_class_econom': 0.0030880535,\n",
       " 's_class_vip': 0.005293806,\n",
       " 't_class_NaN': 0.005823187,\n",
       " 't_class_business': 0.0013234515,\n",
       " 't_class_econom': 0.0022057525,\n",
       " 't_class_vip': 0.0014116816,\n",
       " 'time_suspicious': 0.014910888,\n",
       " 'weekday': 0.06026116}"
      ]
     },
     "execution_count": 567,
     "metadata": {},
     "output_type": "execute_result"
    }
   ],
   "source": [
    "dict(zip(features_delta, XGB_delta.feature_importances_))"
   ]
  },
  {
   "cell_type": "markdown",
   "metadata": {},
   "source": [
    "## Predictions to submit"
   ]
  },
  {
   "cell_type": "code",
   "execution_count": 568,
   "metadata": {
    "collapsed": true
   },
   "outputs": [],
   "source": [
    "df_xgb = np.array(test_delta[features_delta])"
   ]
  },
  {
   "cell_type": "code",
   "execution_count": 569,
   "metadata": {
    "collapsed": true
   },
   "outputs": [],
   "source": [
    "probas = XGB_delta.predict_proba(df_xgb)[:, 1]\n",
    "df = pd.DataFrame(probas, columns=['Prob'])\n",
    "df.to_csv('submit.csv', index_label='Id')"
   ]
  }
 ],
 "metadata": {
  "kernelspec": {
   "display_name": "Python 3",
   "language": "python",
   "name": "python3"
  },
  "language_info": {
   "codemirror_mode": {
    "name": "ipython",
    "version": 3
   },
   "file_extension": ".py",
   "mimetype": "text/x-python",
   "name": "python",
   "nbconvert_exporter": "python",
   "pygments_lexer": "ipython3",
   "version": "3.6.8"
  }
 },
 "nbformat": 4,
 "nbformat_minor": 2
}
