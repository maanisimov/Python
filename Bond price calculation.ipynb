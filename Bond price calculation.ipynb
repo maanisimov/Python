{
 "cells": [
  {
   "cell_type": "code",
   "execution_count": 18,
   "metadata": {
    "collapsed": true
   },
   "outputs": [],
   "source": [
    "import numpy as np\n",
    "import matplotlib.pyplot as plt\n",
    "\n",
    "%matplotlib inline"
   ]
  },
  {
   "cell_type": "code",
   "execution_count": 50,
   "metadata": {},
   "outputs": [
    {
     "name": "stdout",
     "output_type": "stream",
     "text": [
      "0.9090909090909091\n",
      "0.9070294784580498\n",
      "0.9048374180359595\n"
     ]
    }
   ],
   "source": [
    "def discrete_df_0(annual_rate, n_year, t_year):\n",
    "    return 1 / (1 + annual_rate)**t_year\n",
    "\n",
    "def discrete_df_1(annual_rate, n_year, t_year):\n",
    "    return 1 / (1 + annual_rate/n_year)**(t_year*n_year)\n",
    "\n",
    "def continuous_df(annual_rate, n_year, t_year):\n",
    "    return np.exp(-annual_rate*t_year)\n",
    "\n",
    "x = discrete_df_0\n",
    "print(x(0.1, 2, 1))\n",
    "\n",
    "x = discrete_df_1\n",
    "print(x(0.1, 2, 1))\n",
    "\n",
    "x = continuous_df\n",
    "print(x(0.1, 2, 1))"
   ]
  },
  {
   "cell_type": "code",
   "execution_count": 59,
   "metadata": {},
   "outputs": [
    {
     "data": {
      "text/plain": [
       "888.49"
      ]
     },
     "execution_count": 59,
     "metadata": {},
     "output_type": "execute_result"
    }
   ],
   "source": [
    "annual_rate = 0.115\n",
    "annual_coupon = 70\n",
    "nominal = 1000\n",
    "maturity = 3 # years\n",
    "n_year = 2 # number of compounds per year\n",
    "compounding = 'discrete1' # discrete0/1 or continuous\n",
    "\n",
    "r = rate/n_year\n",
    "c = coupon_yearly/n_year\n",
    "\n",
    "if compounding == 'discrete0': \n",
    "    discount_factor_func = discrete_df_0\n",
    "elif compounding == 'discrete1': # used in Internet apps for bond price calculations\n",
    "    discount_factor_func = discrete_df_1\n",
    "else: # continuous\n",
    "    discount_factor_func = continuous_df\n",
    "\n",
    "time_years = []\n",
    "cf = []\n",
    "dcf = []\n",
    "bond_price = 0\n",
    "for t in range(1, maturity*n_year+1):\n",
    "    time_years.append(t/n_year)\n",
    "    cf.append(c)\n",
    "    discount_factor = discount_factor_func(annual_rate, n_year, t/n_year)\n",
    "    dcf.append(c * discount_factor)\n",
    "    #print(bond_price)\n",
    "\n",
    "cf[-1] += nominal\n",
    "dcf[-1] += nominal * discount_factor\n",
    "bond_price = sum(dcf)\n",
    "\n",
    "round(bond_price, 2)"
   ]
  },
  {
   "cell_type": "code",
   "execution_count": 61,
   "metadata": {},
   "outputs": [
    {
     "data": {
      "image/png": "[encoded data removed]",
      "text/plain": [
       "<Figure size 432x288 with 1 Axes>"
      ]
     },
     "metadata": {
      "needs_background": "light"
     },
     "output_type": "display_data"
    }
   ],
   "source": [
    "plt.bar(x=time_years, height=dcf);"
   ]
  },
  {
   "cell_type": "code",
   "execution_count": 65,
   "metadata": {},
   "outputs": [
    {
     "data": {
      "image/png": "[encoded data removed]",
      "text/plain": [
       "<Figure size 432x288 with 1 Axes>"
      ]
     },
     "metadata": {
      "needs_background": "light"
     },
     "output_type": "display_data"
    }
   ],
   "source": [
    "plt.bar(x=time_years, height=np.cumsum(dcf));"
   ]
  }
 ],
 "metadata": {
  "kernelspec": {
   "display_name": "Python 3",
   "language": "python",
   "name": "python3"
  },
  "language_info": {
   "codemirror_mode": {
    "name": "ipython",
    "version": 3
   },
   "file_extension": ".py",
   "mimetype": "text/x-python",
   "name": "python",
   "nbconvert_exporter": "python",
   "pygments_lexer": "ipython3",
   "version": "3.6.8"
  }
 },
 "nbformat": 4,
 "nbformat_minor": 2
}
